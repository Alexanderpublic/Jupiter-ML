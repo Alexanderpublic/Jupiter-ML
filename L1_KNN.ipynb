{
 "cells": [
  {
   "cell_type": "markdown",
   "metadata": {
    "colab_type": "text",
    "id": "qL-K_rov9318"
   },
   "source": [
    "# Метод ближайших соседей\n",
    "\n",
    "Для начала подключим библиотеки, которые нам понадобятся. Если библиотека не установлена, нужно выполнить команду:\n",
    "\n",
    "!pip install <название библиотеки>\n",
    "\n",
    "Например:\n",
    "\n",
    "!pip install sklearn"
   ]
  },
  {
   "cell_type": "code",
   "execution_count": 1,
   "metadata": {
    "colab": {
     "base_uri": "https://localhost:8080/",
     "height": 34
    },
    "colab_type": "code",
    "executionInfo": {
     "elapsed": 2492,
     "status": "ok",
     "timestamp": 1571140727209,
     "user": {
      "displayName": "Иван Романов",
      "photoUrl": "",
      "userId": "05119643280596747163"
     },
     "user_tz": -180
    },
    "id": "dtktXWwG931_",
    "outputId": "dd31ee55-3067-4e33-f4c8-b99d8b430d3c"
   },
   "outputs": [],
   "source": [
    "import pandas as pd\n",
    "import numpy as np\n",
    "import matplotlib.pyplot as plt\n",
    "%matplotlib inline\n"
   ]
  },
  {
   "cell_type": "markdown",
   "metadata": {
    "colab_type": "text",
    "id": "XL9nnzW7932H"
   },
   "source": [
    "Загрузим данные в наш ноутбук. Чаще всего данные хранят в двух форматах: csv (comma-separated file) и excel. Загрузка данных производится командами pandas.read_csv и pandas.read_excel. Аргументом подается путь к файлу (полный или относительный). Для read_csv часто бывает нужен еще аргумент sep, который задает символ, разделяющий значения в файле.\n",
    "Документация: https://pandas.pydata.org/pandas-docs/stable/generated/pandas.read_csv.html"
   ]
  },
  {
   "cell_type": "code",
   "execution_count": 4,
   "metadata": {
    "colab": {
     "base_uri": "https://localhost:8080/",
     "height": 514
    },
    "colab_type": "code",
    "executionInfo": {
     "elapsed": 2888,
     "status": "ok",
     "timestamp": 1571140680588,
     "user": {
      "displayName": "Иван Романов",
      "photoUrl": "",
      "userId": "05119643280596747163"
     },
     "user_tz": -180
    },
    "id": "NGG5psna932J",
    "outputId": "b67d0a96-8bdc-4b3a-e46a-e2eb77a3a388",
    "scrolled": false
   },
   "outputs": [
    {
     "data": {
      "text/html": [
       "<div>\n",
       "<style scoped>\n",
       "    .dataframe tbody tr th:only-of-type {\n",
       "        vertical-align: middle;\n",
       "    }\n",
       "\n",
       "    .dataframe tbody tr th {\n",
       "        vertical-align: top;\n",
       "    }\n",
       "\n",
       "    .dataframe thead th {\n",
       "        text-align: right;\n",
       "    }\n",
       "</style>\n",
       "<table border=\"1\" class=\"dataframe\">\n",
       "  <thead>\n",
       "    <tr style=\"text-align: right;\">\n",
       "      <th></th>\n",
       "      <th>INCIDENT_NUMBER</th>\n",
       "      <th>OFFENSE_CODE</th>\n",
       "      <th>OFFENSE_CODE_GROUP</th>\n",
       "      <th>OFFENSE_DESCRIPTION</th>\n",
       "      <th>DISTRICT</th>\n",
       "      <th>REPORTING_AREA</th>\n",
       "      <th>SHOOTING</th>\n",
       "      <th>OCCURRED_ON_DATE</th>\n",
       "      <th>YEAR</th>\n",
       "      <th>MONTH</th>\n",
       "      <th>DAY_OF_WEEK</th>\n",
       "      <th>HOUR</th>\n",
       "      <th>UCR_PART</th>\n",
       "      <th>STREET</th>\n",
       "      <th>Lat</th>\n",
       "      <th>Long</th>\n",
       "      <th>Location</th>\n",
       "    </tr>\n",
       "  </thead>\n",
       "  <tbody>\n",
       "    <tr>\n",
       "      <td>0</td>\n",
       "      <td>I192062057</td>\n",
       "      <td>619</td>\n",
       "      <td>Larceny</td>\n",
       "      <td>LARCENY ALL OTHERS</td>\n",
       "      <td>B3</td>\n",
       "      <td>444</td>\n",
       "      <td>NaN</td>\n",
       "      <td>2019-08-08 21:15:00</td>\n",
       "      <td>2019</td>\n",
       "      <td>8</td>\n",
       "      <td>Thursday</td>\n",
       "      <td>21</td>\n",
       "      <td>Part One</td>\n",
       "      <td>BLUE HILL AVE</td>\n",
       "      <td>42.295764</td>\n",
       "      <td>-71.087560</td>\n",
       "      <td>(42.29576380, -71.08756002)</td>\n",
       "    </tr>\n",
       "    <tr>\n",
       "      <td>1</td>\n",
       "      <td>I192062054</td>\n",
       "      <td>3115</td>\n",
       "      <td>Investigate Person</td>\n",
       "      <td>INVESTIGATE PERSON</td>\n",
       "      <td>D4</td>\n",
       "      <td>156</td>\n",
       "      <td>NaN</td>\n",
       "      <td>2019-08-08 21:04:00</td>\n",
       "      <td>2019</td>\n",
       "      <td>8</td>\n",
       "      <td>Thursday</td>\n",
       "      <td>21</td>\n",
       "      <td>Part Three</td>\n",
       "      <td>W CONCORD ST</td>\n",
       "      <td>42.339620</td>\n",
       "      <td>-71.076992</td>\n",
       "      <td>(42.33961962, -71.07699237)</td>\n",
       "    </tr>\n",
       "    <tr>\n",
       "      <td>2</td>\n",
       "      <td>I192062049</td>\n",
       "      <td>1402</td>\n",
       "      <td>Vandalism</td>\n",
       "      <td>VANDALISM</td>\n",
       "      <td>NaN</td>\n",
       "      <td></td>\n",
       "      <td>NaN</td>\n",
       "      <td>2019-08-08 21:19:00</td>\n",
       "      <td>2019</td>\n",
       "      <td>8</td>\n",
       "      <td>Thursday</td>\n",
       "      <td>21</td>\n",
       "      <td>Part Two</td>\n",
       "      <td>NaN</td>\n",
       "      <td>NaN</td>\n",
       "      <td>NaN</td>\n",
       "      <td>(0.00000000, 0.00000000)</td>\n",
       "    </tr>\n",
       "    <tr>\n",
       "      <td>3</td>\n",
       "      <td>I192062044</td>\n",
       "      <td>3006</td>\n",
       "      <td>Medical Assistance</td>\n",
       "      <td>SICK/INJURED/MEDICAL - PERSON</td>\n",
       "      <td>D4</td>\n",
       "      <td>162</td>\n",
       "      <td>NaN</td>\n",
       "      <td>2019-08-08 19:31:00</td>\n",
       "      <td>2019</td>\n",
       "      <td>8</td>\n",
       "      <td>Thursday</td>\n",
       "      <td>19</td>\n",
       "      <td>Part Three</td>\n",
       "      <td>HARRISON AVE</td>\n",
       "      <td>42.344967</td>\n",
       "      <td>-71.063822</td>\n",
       "      <td>(42.34496729, -71.06382224)</td>\n",
       "    </tr>\n",
       "    <tr>\n",
       "      <td>4</td>\n",
       "      <td>I192062043</td>\n",
       "      <td>3201</td>\n",
       "      <td>Property Lost</td>\n",
       "      <td>PROPERTY - LOST</td>\n",
       "      <td>D4</td>\n",
       "      <td>141</td>\n",
       "      <td>NaN</td>\n",
       "      <td>2019-08-08 19:15:00</td>\n",
       "      <td>2019</td>\n",
       "      <td>8</td>\n",
       "      <td>Thursday</td>\n",
       "      <td>19</td>\n",
       "      <td>Part Three</td>\n",
       "      <td>NEWBURY ST</td>\n",
       "      <td>42.348406</td>\n",
       "      <td>-71.086883</td>\n",
       "      <td>(42.34840576, -71.08688339)</td>\n",
       "    </tr>\n",
       "    <tr>\n",
       "      <td>5</td>\n",
       "      <td>I192062042</td>\n",
       "      <td>3006</td>\n",
       "      <td>Medical Assistance</td>\n",
       "      <td>SICK/INJURED/MEDICAL - PERSON</td>\n",
       "      <td>D4</td>\n",
       "      <td>617</td>\n",
       "      <td>NaN</td>\n",
       "      <td>2019-08-08 19:08:00</td>\n",
       "      <td>2019</td>\n",
       "      <td>8</td>\n",
       "      <td>Thursday</td>\n",
       "      <td>19</td>\n",
       "      <td>Part Three</td>\n",
       "      <td>HUNTINGTON AVE</td>\n",
       "      <td>42.337923</td>\n",
       "      <td>-71.095266</td>\n",
       "      <td>(42.33792266, -71.09526598)</td>\n",
       "    </tr>\n",
       "    <tr>\n",
       "      <td>6</td>\n",
       "      <td>I192062039</td>\n",
       "      <td>3115</td>\n",
       "      <td>Investigate Person</td>\n",
       "      <td>INVESTIGATE PERSON</td>\n",
       "      <td>C11</td>\n",
       "      <td>359</td>\n",
       "      <td>NaN</td>\n",
       "      <td>2019-08-08 20:39:00</td>\n",
       "      <td>2019</td>\n",
       "      <td>8</td>\n",
       "      <td>Thursday</td>\n",
       "      <td>20</td>\n",
       "      <td>Part Three</td>\n",
       "      <td>WASHINGTON ST</td>\n",
       "      <td>42.294814</td>\n",
       "      <td>-71.072009</td>\n",
       "      <td>(42.29481426, -71.07200871)</td>\n",
       "    </tr>\n",
       "    <tr>\n",
       "      <td>7</td>\n",
       "      <td>I192062036</td>\n",
       "      <td>3115</td>\n",
       "      <td>Investigate Person</td>\n",
       "      <td>INVESTIGATE PERSON</td>\n",
       "      <td>B2</td>\n",
       "      <td>585</td>\n",
       "      <td>NaN</td>\n",
       "      <td>2019-08-08 20:09:00</td>\n",
       "      <td>2019</td>\n",
       "      <td>8</td>\n",
       "      <td>Thursday</td>\n",
       "      <td>20</td>\n",
       "      <td>Part Three</td>\n",
       "      <td>PARKER HILL AVE</td>\n",
       "      <td>42.330335</td>\n",
       "      <td>-71.107499</td>\n",
       "      <td>(42.33033485, -71.10749865)</td>\n",
       "    </tr>\n",
       "    <tr>\n",
       "      <td>8</td>\n",
       "      <td>I192062035</td>\n",
       "      <td>3410</td>\n",
       "      <td>Towed</td>\n",
       "      <td>TOWED MOTOR VEHICLE</td>\n",
       "      <td>B3</td>\n",
       "      <td>465</td>\n",
       "      <td>NaN</td>\n",
       "      <td>2019-08-08 19:04:00</td>\n",
       "      <td>2019</td>\n",
       "      <td>8</td>\n",
       "      <td>Thursday</td>\n",
       "      <td>19</td>\n",
       "      <td>Part Three</td>\n",
       "      <td>WILCOCK ST</td>\n",
       "      <td>42.286889</td>\n",
       "      <td>-71.092230</td>\n",
       "      <td>(42.28688930, -71.09222991)</td>\n",
       "    </tr>\n",
       "    <tr>\n",
       "      <td>9</td>\n",
       "      <td>I192062034</td>\n",
       "      <td>3006</td>\n",
       "      <td>Medical Assistance</td>\n",
       "      <td>SICK/INJURED/MEDICAL - PERSON</td>\n",
       "      <td>E18</td>\n",
       "      <td>537</td>\n",
       "      <td>NaN</td>\n",
       "      <td>2019-08-08 20:03:00</td>\n",
       "      <td>2019</td>\n",
       "      <td>8</td>\n",
       "      <td>Thursday</td>\n",
       "      <td>20</td>\n",
       "      <td>Part Three</td>\n",
       "      <td>KOVEY RD</td>\n",
       "      <td>NaN</td>\n",
       "      <td>NaN</td>\n",
       "      <td>(0.00000000, 0.00000000)</td>\n",
       "    </tr>\n",
       "  </tbody>\n",
       "</table>\n",
       "</div>"
      ],
      "text/plain": [
       "  INCIDENT_NUMBER  OFFENSE_CODE  OFFENSE_CODE_GROUP  \\\n",
       "0      I192062057           619             Larceny   \n",
       "1      I192062054          3115  Investigate Person   \n",
       "2      I192062049          1402           Vandalism   \n",
       "3      I192062044          3006  Medical Assistance   \n",
       "4      I192062043          3201       Property Lost   \n",
       "5      I192062042          3006  Medical Assistance   \n",
       "6      I192062039          3115  Investigate Person   \n",
       "7      I192062036          3115  Investigate Person   \n",
       "8      I192062035          3410               Towed   \n",
       "9      I192062034          3006  Medical Assistance   \n",
       "\n",
       "             OFFENSE_DESCRIPTION DISTRICT REPORTING_AREA SHOOTING  \\\n",
       "0             LARCENY ALL OTHERS       B3            444      NaN   \n",
       "1             INVESTIGATE PERSON       D4            156      NaN   \n",
       "2                      VANDALISM      NaN                     NaN   \n",
       "3  SICK/INJURED/MEDICAL - PERSON       D4            162      NaN   \n",
       "4                PROPERTY - LOST       D4            141      NaN   \n",
       "5  SICK/INJURED/MEDICAL - PERSON       D4            617      NaN   \n",
       "6             INVESTIGATE PERSON      C11            359      NaN   \n",
       "7             INVESTIGATE PERSON       B2            585      NaN   \n",
       "8            TOWED MOTOR VEHICLE       B3            465      NaN   \n",
       "9  SICK/INJURED/MEDICAL - PERSON      E18            537      NaN   \n",
       "\n",
       "      OCCURRED_ON_DATE  YEAR  MONTH DAY_OF_WEEK  HOUR    UCR_PART  \\\n",
       "0  2019-08-08 21:15:00  2019      8    Thursday    21    Part One   \n",
       "1  2019-08-08 21:04:00  2019      8    Thursday    21  Part Three   \n",
       "2  2019-08-08 21:19:00  2019      8    Thursday    21    Part Two   \n",
       "3  2019-08-08 19:31:00  2019      8    Thursday    19  Part Three   \n",
       "4  2019-08-08 19:15:00  2019      8    Thursday    19  Part Three   \n",
       "5  2019-08-08 19:08:00  2019      8    Thursday    19  Part Three   \n",
       "6  2019-08-08 20:39:00  2019      8    Thursday    20  Part Three   \n",
       "7  2019-08-08 20:09:00  2019      8    Thursday    20  Part Three   \n",
       "8  2019-08-08 19:04:00  2019      8    Thursday    19  Part Three   \n",
       "9  2019-08-08 20:03:00  2019      8    Thursday    20  Part Three   \n",
       "\n",
       "            STREET        Lat       Long                     Location  \n",
       "0    BLUE HILL AVE  42.295764 -71.087560  (42.29576380, -71.08756002)  \n",
       "1     W CONCORD ST  42.339620 -71.076992  (42.33961962, -71.07699237)  \n",
       "2              NaN        NaN        NaN     (0.00000000, 0.00000000)  \n",
       "3     HARRISON AVE  42.344967 -71.063822  (42.34496729, -71.06382224)  \n",
       "4       NEWBURY ST  42.348406 -71.086883  (42.34840576, -71.08688339)  \n",
       "5   HUNTINGTON AVE  42.337923 -71.095266  (42.33792266, -71.09526598)  \n",
       "6    WASHINGTON ST  42.294814 -71.072009  (42.29481426, -71.07200871)  \n",
       "7  PARKER HILL AVE  42.330335 -71.107499  (42.33033485, -71.10749865)  \n",
       "8       WILCOCK ST  42.286889 -71.092230  (42.28688930, -71.09222991)  \n",
       "9         KOVEY RD        NaN        NaN     (0.00000000, 0.00000000)  "
      ]
     },
     "execution_count": 4,
     "metadata": {},
     "output_type": "execute_result"
    }
   ],
   "source": [
    "data = pd.read_csv('boston_crime.csv', sep=',')\n",
    "# Посмотрим на несколько записей из набора данных\n",
    "data.head(10)"
   ]
  },
  {
   "cell_type": "code",
   "execution_count": 5,
   "metadata": {
    "colab": {
     "base_uri": "https://localhost:8080/",
     "height": 655
    },
    "colab_type": "code",
    "executionInfo": {
     "elapsed": 1562,
     "status": "ok",
     "timestamp": 1571140935759,
     "user": {
      "displayName": "Иван Романов",
      "photoUrl": "",
      "userId": "05119643280596747163"
     },
     "user_tz": -180
    },
    "id": "qVzbSKU1932O",
    "outputId": "f36a58ee-52b9-4e70-db6d-5c03e250deff",
    "scrolled": true
   },
   "outputs": [
    {
     "name": "stdout",
     "output_type": "stream",
     "text": [
      "<class 'pandas.core.frame.DataFrame'>\n",
      "RangeIndex: 411033 entries, 0 to 411032\n",
      "Data columns (total 17 columns):\n",
      "INCIDENT_NUMBER        411033 non-null object\n",
      "OFFENSE_CODE           411033 non-null int64\n",
      "OFFENSE_CODE_GROUP     411033 non-null object\n",
      "OFFENSE_DESCRIPTION    411033 non-null object\n",
      "DISTRICT               408902 non-null object\n",
      "REPORTING_AREA         411033 non-null object\n",
      "SHOOTING               1686 non-null object\n",
      "OCCURRED_ON_DATE       411033 non-null object\n",
      "YEAR                   411033 non-null int64\n",
      "MONTH                  411033 non-null int64\n",
      "DAY_OF_WEEK            411033 non-null object\n",
      "HOUR                   411033 non-null int64\n",
      "UCR_PART               410924 non-null object\n",
      "STREET                 398927 non-null object\n",
      "Lat                    384797 non-null float64\n",
      "Long                   384797 non-null float64\n",
      "Location               411033 non-null object\n",
      "dtypes: float64(2), int64(4), object(11)\n",
      "memory usage: 53.3+ MB\n"
     ]
    }
   ],
   "source": [
    "data.info()"
   ]
  },
  {
   "cell_type": "markdown",
   "metadata": {
    "colab_type": "text",
    "id": "dTvltapH932U"
   },
   "source": [
    "Этот набор данных - список героев \"Игры престолов\". По каждому из них собрано довольно много информации: присутствуют как категориальные, так и булевские, и числовые признаки. Будем предсказывать значение переменной isAlive, которая означает, жив ли персонаж в данное время. Эта задача - задача бинарной классификации. В рамках этой лабораторки проверим гипотезу о том, что умирающие герои могут быть \"близки\" по собранным параметрам.\n",
    "\n",
    "В нашей выборке есть признаки \"номер\" записи и имя героя. Очевидно, они нам не понадобятся. Выбросим их из выборки:"
   ]
  },
  {
   "cell_type": "code",
   "execution_count": 6,
   "metadata": {
    "colab": {},
    "colab_type": "code",
    "id": "yHrne4A4932V",
    "scrolled": true
   },
   "outputs": [],
   "source": [
    "data = data.drop(['INCIDENT_NUMBER', 'REPORTING_AREA', 'OFFENSE_CODE_GROUP', 'OCCURRED_ON_DATE', 'UCR_PART', 'Location',\n",
    "                 'OFFENSE_DESCRIPTION', 'STREET'],\n",
    "                 axis='columns') # первый аргумент - список ненужных признаков,\n",
    "                                                   # второй - поиск имен признаков по названиям колонок, а не строк"
   ]
  },
  {
   "cell_type": "markdown",
   "metadata": {
    "colab_type": "text",
    "id": "G3UZKO0F932Y"
   },
   "source": [
    "Посмотрим, можем ли мы выбросить еще какие-нибудь признаки из нашей таблицы. Это стоит делать, поскольку чем меньше признаков - тем легче вычислять расстояние между объектами, то есть алгоритм будет работать быстрее. Посмотрим на корреляцию признаков между собой. Построим графическое представление модуля значения корреляции попарно между признаками."
   ]
  },
  {
   "cell_type": "code",
   "execution_count": 7,
   "metadata": {
    "colab": {
     "base_uri": "https://localhost:8080/",
     "height": 930
    },
    "colab_type": "code",
    "executionInfo": {
     "elapsed": 2950,
     "status": "ok",
     "timestamp": 1571141050944,
     "user": {
      "displayName": "Иван Романов",
      "photoUrl": "",
      "userId": "05119643280596747163"
     },
     "user_tz": -180
    },
    "id": "aeWIQqCL932a",
    "outputId": "7f71214b-379e-4ad9-87e0-81d6ca3545dd"
   },
   "outputs": [
    {
     "data": {
      "text/plain": [
       "<matplotlib.axes._subplots.AxesSubplot at 0x279a38cac88>"
      ]
     },
     "execution_count": 7,
     "metadata": {},
     "output_type": "execute_result"
    },
    {
     "data": {
      "image/png": "[encoded data removed]",
      "text/plain": [
       "<Figure size 864x504 with 2 Axes>"
      ]
     },
     "metadata": {},
     "output_type": "display_data"
    }
   ],
   "source": [
    "# Картинку отрисуем с помощью библиотеки seaborn\n",
    "import seaborn as sns\n",
    "# Подсчитаем корреляцию и возьмем модуль от нее\n",
    "corr = data.corr().abs()\n",
    "# Следующая команда устанавливает размер картинки (по умолчанию она довольно маленькая)\n",
    "sns.set(rc={'figure.figsize':(12, 7)})\n",
    "# Нарисуем картинку\n",
    "sns.heatmap(corr, \n",
    "            xticklabels=corr.columns.values,\n",
    "            yticklabels=corr.columns.values)"
   ]
  },
  {
   "cell_type": "markdown",
   "metadata": {
    "colab_type": "text",
    "id": "q6qu0X-H932d"
   },
   "source": [
    "![%D0%B8%D0%B7%D0%BE%D0%B1%D1%80%D0%B0%D0%B6%D0%B5%D0%BD%D0%B8%D0%B5.png](attachment:%D0%B8%D0%B7%D0%BE%D0%B1%D1%80%D0%B0%D0%B6%D0%B5%D0%BD%D0%B8%D0%B5.png)"
   ]
  },
  {
   "cell_type": "markdown",
   "metadata": {
    "colab_type": "text",
    "id": "2lr-gCRr932f"
   },
   "source": [
    "Удалим из выборки признаки, высоко коррелирующие с другими признаками - зачем они нам?) Уберем еще один признак dateOfDeath, потому что он однозначно повторяет целевую переменную: если есть значение - значит, герой мертв."
   ]
  },
  {
   "cell_type": "markdown",
   "metadata": {
    "colab_type": "text",
    "id": "bbnN3p-q932n"
   },
   "source": [
    "Мы оставили один признак с высокой корреляцией - actual. Исходного описания к этому набору данных не было, поэтому нельзя однозначно сказать, что он означает, но, видимо, это некоторая \"актуальность\" персонажа, знак того, фигурирует ли он в данный момент в сюжете. Этот признак коррелирует с нашей целевой переменной, которую мы не используем в признаковом описании объектов, поэтому стоит его оставить. Забегая вперед, сразу можно сказать, что на таких данных шикарно будут работать линейные методы, о которых мы поговорим через пару занятий.\n",
    "\n",
    "Посмотрим на признаки, которые остались после прореживания."
   ]
  },
  {
   "cell_type": "code",
   "execution_count": 7,
   "metadata": {
    "colab": {
     "base_uri": "https://localhost:8080/",
     "height": 299
    },
    "colab_type": "code",
    "executionInfo": {
     "elapsed": 907,
     "status": "ok",
     "timestamp": 1571141198107,
     "user": {
      "displayName": "Иван Романов",
      "photoUrl": "",
      "userId": "05119643280596747163"
     },
     "user_tz": -180
    },
    "id": "92aeOve5932o",
    "outputId": "96beaa0f-d1fb-4c1e-f8d8-4529c09e1b0b"
   },
   "outputs": [
    {
     "data": {
      "text/html": [
       "<div>\n",
       "<style scoped>\n",
       "    .dataframe tbody tr th:only-of-type {\n",
       "        vertical-align: middle;\n",
       "    }\n",
       "\n",
       "    .dataframe tbody tr th {\n",
       "        vertical-align: top;\n",
       "    }\n",
       "\n",
       "    .dataframe thead th {\n",
       "        text-align: right;\n",
       "    }\n",
       "</style>\n",
       "<table border=\"1\" class=\"dataframe\">\n",
       "  <thead>\n",
       "    <tr style=\"text-align: right;\">\n",
       "      <th></th>\n",
       "      <th>OFFENSE_CODE</th>\n",
       "      <th>DISTRICT</th>\n",
       "      <th>SHOOTING</th>\n",
       "      <th>YEAR</th>\n",
       "      <th>MONTH</th>\n",
       "      <th>DAY_OF_WEEK</th>\n",
       "      <th>HOUR</th>\n",
       "      <th>Lat</th>\n",
       "      <th>Long</th>\n",
       "    </tr>\n",
       "  </thead>\n",
       "  <tbody>\n",
       "    <tr>\n",
       "      <td>0</td>\n",
       "      <td>619</td>\n",
       "      <td>B3</td>\n",
       "      <td>NaN</td>\n",
       "      <td>2019</td>\n",
       "      <td>8</td>\n",
       "      <td>Thursday</td>\n",
       "      <td>21</td>\n",
       "      <td>42.295764</td>\n",
       "      <td>-71.087560</td>\n",
       "    </tr>\n",
       "    <tr>\n",
       "      <td>1</td>\n",
       "      <td>3115</td>\n",
       "      <td>D4</td>\n",
       "      <td>NaN</td>\n",
       "      <td>2019</td>\n",
       "      <td>8</td>\n",
       "      <td>Thursday</td>\n",
       "      <td>21</td>\n",
       "      <td>42.339620</td>\n",
       "      <td>-71.076992</td>\n",
       "    </tr>\n",
       "    <tr>\n",
       "      <td>2</td>\n",
       "      <td>1402</td>\n",
       "      <td>NaN</td>\n",
       "      <td>NaN</td>\n",
       "      <td>2019</td>\n",
       "      <td>8</td>\n",
       "      <td>Thursday</td>\n",
       "      <td>21</td>\n",
       "      <td>NaN</td>\n",
       "      <td>NaN</td>\n",
       "    </tr>\n",
       "    <tr>\n",
       "      <td>3</td>\n",
       "      <td>3006</td>\n",
       "      <td>D4</td>\n",
       "      <td>NaN</td>\n",
       "      <td>2019</td>\n",
       "      <td>8</td>\n",
       "      <td>Thursday</td>\n",
       "      <td>19</td>\n",
       "      <td>42.344967</td>\n",
       "      <td>-71.063822</td>\n",
       "    </tr>\n",
       "    <tr>\n",
       "      <td>4</td>\n",
       "      <td>3201</td>\n",
       "      <td>D4</td>\n",
       "      <td>NaN</td>\n",
       "      <td>2019</td>\n",
       "      <td>8</td>\n",
       "      <td>Thursday</td>\n",
       "      <td>19</td>\n",
       "      <td>42.348406</td>\n",
       "      <td>-71.086883</td>\n",
       "    </tr>\n",
       "  </tbody>\n",
       "</table>\n",
       "</div>"
      ],
      "text/plain": [
       "   OFFENSE_CODE DISTRICT SHOOTING  YEAR  MONTH DAY_OF_WEEK  HOUR        Lat  \\\n",
       "0           619       B3      NaN  2019      8    Thursday    21  42.295764   \n",
       "1          3115       D4      NaN  2019      8    Thursday    21  42.339620   \n",
       "2          1402      NaN      NaN  2019      8    Thursday    21        NaN   \n",
       "3          3006       D4      NaN  2019      8    Thursday    19  42.344967   \n",
       "4          3201       D4      NaN  2019      8    Thursday    19  42.348406   \n",
       "\n",
       "        Long  \n",
       "0 -71.087560  \n",
       "1 -71.076992  \n",
       "2        NaN  \n",
       "3 -71.063822  \n",
       "4 -71.086883  "
      ]
     },
     "execution_count": 7,
     "metadata": {},
     "output_type": "execute_result"
    }
   ],
   "source": [
    "data.head()"
   ]
  },
  {
   "cell_type": "markdown",
   "metadata": {
    "colab_type": "text",
    "id": "Qr3Evb23932t"
   },
   "source": [
    "Видим несколько колонок текстовых переменных. Посмотрим, сколько всего таких - выведем типы данных в каждой колонке."
   ]
  },
  {
   "cell_type": "code",
   "execution_count": 18,
   "metadata": {
    "colab": {
     "base_uri": "https://localhost:8080/",
     "height": 487
    },
    "colab_type": "code",
    "executionInfo": {
     "elapsed": 977,
     "status": "ok",
     "timestamp": 1571141220834,
     "user": {
      "displayName": "Иван Романов",
      "photoUrl": "",
      "userId": "05119643280596747163"
     },
     "user_tz": -180
    },
    "id": "LUdNzhZB932v",
    "outputId": "f90622ef-460d-4c93-ed38-3e7532cc3054"
   },
   "outputs": [
    {
     "data": {
      "text/plain": [
       "OFFENSE_CODE      int64\n",
       "DISTRICT          int64\n",
       "SHOOTING          int64\n",
       "YEAR              int64\n",
       "MONTH             int64\n",
       "DAY_OF_WEEK       int64\n",
       "HOUR              int64\n",
       "Lat             float64\n",
       "Long            float64\n",
       "dtype: object"
      ]
     },
     "execution_count": 18,
     "metadata": {},
     "output_type": "execute_result"
    }
   ],
   "source": [
    "data.dtypes"
   ]
  },
  {
   "cell_type": "markdown",
   "metadata": {
    "colab_type": "text",
    "id": "W_eEdYYy9322"
   },
   "source": [
    "Текстовые признаки математическим методом не обработаешь. Посмотрим на значения, которые они принимают, чтобы придумать, что с ними делать."
   ]
  },
  {
   "cell_type": "code",
   "execution_count": 9,
   "metadata": {
    "colab": {
     "base_uri": "https://localhost:8080/",
     "height": 1000
    },
    "colab_type": "code",
    "executionInfo": {
     "elapsed": 1256,
     "status": "ok",
     "timestamp": 1571141274719,
     "user": {
      "displayName": "Иван Романов",
      "photoUrl": "",
      "userId": "05119643280596747163"
     },
     "user_tz": -180
    },
    "id": "hQ4ZjpTo9322",
    "outputId": "c274dbc5-3adc-4463-9e4b-6b0ef6009507"
   },
   "outputs": [
    {
     "data": {
      "text/plain": [
       "B2     65597\n",
       "C11    55382\n",
       "D4     52947\n",
       "B3     46498\n",
       "A1     45874\n",
       "C6     29897\n",
       "D14    25768\n",
       "E18    22580\n",
       "E13    22447\n",
       "E5     16982\n",
       "A7     16565\n",
       "A15     8365\n",
       "Name: DISTRICT, dtype: int64"
      ]
     },
     "execution_count": 9,
     "metadata": {},
     "output_type": "execute_result"
    }
   ],
   "source": [
    "data['DISTRICT'].value_counts()"
   ]
  },
  {
   "cell_type": "code",
   "execution_count": 10,
   "metadata": {
    "colab": {},
    "colab_type": "code",
    "id": "y0ypawcI932i"
   },
   "outputs": [
    {
     "data": {
      "text/plain": [
       "Y    1686\n",
       "Name: SHOOTING, dtype: int64"
      ]
     },
     "execution_count": 10,
     "metadata": {},
     "output_type": "execute_result"
    }
   ],
   "source": [
    "data['SHOOTING'].value_counts()"
   ]
  },
  {
   "cell_type": "markdown",
   "metadata": {
    "colab_type": "text",
    "id": "fv2w7fUb9326"
   },
   "source": [
    "Чем больше группа - тем больше вероятность того, что хоть кто-то в ней будет убит. Давайте заменим значения этого признака на количество героев в группе."
   ]
  },
  {
   "cell_type": "code",
   "execution_count": null,
   "metadata": {
    "colab": {},
    "colab_type": "code",
    "id": "A8NxpihS9327"
   },
   "outputs": [],
   "source": []
  },
  {
   "cell_type": "markdown",
   "metadata": {
    "colab_type": "text",
    "id": "xKU_ilXY933A"
   },
   "source": [
    "## Важно!\n",
    "* На предыдущем шаге была допущена принципиальная ошибка, попробуйте понять, какая. Она была допущена умышленно, чтобы не мучить вас пока излишним питоном."
   ]
  },
  {
   "cell_type": "markdown",
   "metadata": {
    "colab_type": "text",
    "id": "oWQPNWG5933C"
   },
   "source": [
    "Если в книгах были указаны родственные связи героя, то это тоже может повлиять на исход его жизни. Закодируем бинарно наличие матери и наличие отца в тексте книг."
   ]
  },
  {
   "cell_type": "code",
   "execution_count": 8,
   "metadata": {
    "colab": {},
    "colab_type": "code",
    "id": "JocbnvPN933D"
   },
   "outputs": [],
   "source": [
    "def week (value):\n",
    "    weekdays = {\n",
    "        'Monday' : 1,\n",
    "        'Tuesday' : 2,\n",
    "        'Wednesday' : 3, \n",
    "        'Thursday' : 4, \n",
    "        'Friday' : 5, \n",
    "        'Saturday' : 6, \n",
    "        'Sunday' : 7\n",
    "    }\n",
    "    return weekdays[value]\n",
    "\n",
    "data['DAY_OF_WEEK'] = data['DAY_OF_WEEK'].apply(week)"
   ]
  },
  {
   "cell_type": "markdown",
   "metadata": {
    "colab_type": "text",
    "id": "Aob6QanK933I"
   },
   "source": [
    "В остальных текстовых переменных разброс значений более равномерный, поэтому дропнем их за ненадобностью."
   ]
  },
  {
   "cell_type": "code",
   "execution_count": 9,
   "metadata": {
    "colab": {},
    "colab_type": "code",
    "id": "LLOaal17933U"
   },
   "outputs": [],
   "source": [
    "def shoot_nans(value):\n",
    "    if value == 'Y':\n",
    "        return 1\n",
    "    if pd.isnull(value):\n",
    "        return 0\n",
    "def dig(s):\n",
    "    s_int = ''\n",
    "    i = 0\n",
    "    for i in range(len(s)):\n",
    "        try:\n",
    "            s_int += str(int(s[i]))\n",
    "        except ValueError as err:\n",
    "            continue\n",
    "        return s_int\n",
    "def distr_nans(value):\n",
    "    sec = {\n",
    "        'A': '1',\n",
    "        'B': '2',\n",
    "        'C': '3',\n",
    "        'D': '4',\n",
    "        'E': '5'\n",
    "    }\n",
    "    if pd.isnull(value):\n",
    "        return 0\n",
    "    else:\n",
    "        return int(sec[value[0]]+dig(value))\n",
    "    \n",
    "def loc_nans(value):\n",
    "    if pd.isnull(value):\n",
    "        return 0\n",
    "    else:\n",
    "        return value*1000000\n",
    "\n",
    "for col in ['SHOOTING']:\n",
    "    data[col] = data[col].apply(shoot_nans)\n",
    "for col in ['DISTRICT']:\n",
    "    data[col]=data[col].apply(distr_nans)\n",
    "for col in ['Lat', 'Long']:\n",
    "    data[col]=data[col].apply(loc_nans)"
   ]
  },
  {
   "cell_type": "code",
   "execution_count": 10,
   "metadata": {
    "colab": {},
    "colab_type": "code",
    "id": "rXaOClrW933K"
   },
   "outputs": [
    {
     "data": {
      "text/plain": [
       "<matplotlib.axes._subplots.AxesSubplot at 0x279a3d05dc8>"
      ]
     },
     "execution_count": 10,
     "metadata": {},
     "output_type": "execute_result"
    },
    {
     "data": {
      "image/png": "[encoded data removed]",
      "text/plain": [
       "<Figure size 864x504 with 2 Axes>"
      ]
     },
     "metadata": {},
     "output_type": "display_data"
    }
   ],
   "source": [
    "# Картинку отрисуем с помощью библиотеки seaborn\n",
    "import seaborn as sns\n",
    "# Подсчитаем корреляцию и возьмем модуль от нее\n",
    "corr = data.corr().abs()\n",
    "# Следующая команда устанавливает размер картинки (по умолчанию она довольно маленькая)\n",
    "sns.set(rc={'figure.figsize':(12, 7)})\n",
    "# Нарисуем картинку\n",
    "sns.heatmap(corr, \n",
    "            xticklabels=corr.columns.values,\n",
    "            yticklabels=corr.columns.values)"
   ]
  },
  {
   "cell_type": "markdown",
   "metadata": {
    "colab_type": "text",
    "id": "xqhGceVg933N"
   },
   "source": [
    "У нас осталась единственная проблема с данными - пропущенные значения. Есть несколько подходов к заполнению пропусков - они показаны в презентации. Посмотрим, в каких колонках есть пропущенные значения."
   ]
  },
  {
   "cell_type": "code",
   "execution_count": 11,
   "metadata": {
    "colab": {
     "base_uri": "https://localhost:8080/",
     "height": 420
    },
    "colab_type": "code",
    "executionInfo": {
     "elapsed": 942,
     "status": "ok",
     "timestamp": 1571141580069,
     "user": {
      "displayName": "Иван Романов",
      "photoUrl": "",
      "userId": "05119643280596747163"
     },
     "user_tz": -180
    },
    "id": "SpTYR9V2933O",
    "outputId": "aaa17aaf-e1a8-41b0-ac93-7d711be820f1"
   },
   "outputs": [
    {
     "data": {
      "text/plain": [
       "OFFENSE_CODE    False\n",
       "DISTRICT        False\n",
       "SHOOTING        False\n",
       "YEAR            False\n",
       "MONTH           False\n",
       "DAY_OF_WEEK     False\n",
       "HOUR            False\n",
       "Lat             False\n",
       "Long            False\n",
       "dtype: bool"
      ]
     },
     "execution_count": 11,
     "metadata": {},
     "output_type": "execute_result"
    }
   ],
   "source": [
    "data.isna().any()"
   ]
  },
  {
   "cell_type": "markdown",
   "metadata": {
    "colab_type": "text",
    "id": "Zu5RfbOL933T"
   },
   "source": [
    "Четыре из этих признаков - бинарные. Преобразоуем nan'ы в нечто равноудаленное от 0 и 1:"
   ]
  },
  {
   "cell_type": "markdown",
   "metadata": {
    "colab_type": "text",
    "id": "Y_fwMwVd933Z"
   },
   "source": [
    "Отлично, теперь посмотрим на оставшийся признак age:"
   ]
  },
  {
   "cell_type": "code",
   "execution_count": null,
   "metadata": {
    "colab": {
     "base_uri": "https://localhost:8080/",
     "height": 834
    },
    "colab_type": "code",
    "executionInfo": {
     "elapsed": 1709,
     "status": "ok",
     "timestamp": 1571141739336,
     "user": {
      "displayName": "Иван Романов",
      "photoUrl": "",
      "userId": "05119643280596747163"
     },
     "user_tz": -180
    },
    "id": "94NffR2i933a",
    "outputId": "3f50645f-5756-4a04-bca7-dd92ef47fa6a"
   },
   "outputs": [],
   "source": []
  },
  {
   "cell_type": "markdown",
   "metadata": {
    "colab_type": "text",
    "id": "u8XF-2hl933e"
   },
   "source": [
    "Что-то здесь неладно: видно двух персонажей с отрицательным возрастом."
   ]
  },
  {
   "cell_type": "code",
   "execution_count": null,
   "metadata": {
    "colab": {
     "base_uri": "https://localhost:8080/",
     "height": 126
    },
    "colab_type": "code",
    "executionInfo": {
     "elapsed": 1080,
     "status": "ok",
     "timestamp": 1571141780109,
     "user": {
      "displayName": "Иван Романов",
      "photoUrl": "",
      "userId": "05119643280596747163"
     },
     "user_tz": -180
    },
    "id": "tV4cJ1Wj933g",
    "outputId": "5ab07e39-4b61-409b-a726-43b8a9da9ca7"
   },
   "outputs": [],
   "source": []
  },
  {
   "cell_type": "markdown",
   "metadata": {
    "colab_type": "text",
    "id": "eHHGNuW2933j"
   },
   "source": [
    "Чтобы пока не ломать голову, приведем эти значения к nan:"
   ]
  },
  {
   "cell_type": "code",
   "execution_count": null,
   "metadata": {
    "colab": {
     "base_uri": "https://localhost:8080/",
     "height": 101
    },
    "colab_type": "code",
    "executionInfo": {
     "elapsed": 1104,
     "status": "ok",
     "timestamp": 1571141788727,
     "user": {
      "displayName": "Иван Романов",
      "photoUrl": "",
      "userId": "05119643280596747163"
     },
     "user_tz": -180
    },
    "id": "hxPcjQiW933k",
    "outputId": "b1398c46-9c40-4078-c93a-858624d79751"
   },
   "outputs": [],
   "source": []
  },
  {
   "cell_type": "markdown",
   "metadata": {
    "colab_type": "text",
    "id": "550LhkY6933w"
   },
   "source": [
    "Глянем на плотность распределения возрастов."
   ]
  },
  {
   "cell_type": "code",
   "execution_count": null,
   "metadata": {
    "colab": {
     "base_uri": "https://localhost:8080/",
     "height": 834
    },
    "colab_type": "code",
    "executionInfo": {
     "elapsed": 1501,
     "status": "ok",
     "timestamp": 1571141823754,
     "user": {
      "displayName": "Иван Романов",
      "photoUrl": "",
      "userId": "05119643280596747163"
     },
     "user_tz": -180
    },
    "id": "v7auQo91933w",
    "outputId": "be5d874a-070c-44da-e997-5faaf8a281e5"
   },
   "outputs": [],
   "source": []
  },
  {
   "cell_type": "markdown",
   "metadata": {
    "colab_type": "text",
    "id": "jp1GmoSy933z"
   },
   "source": [
    "С распределением всё понятно, а у скольких героев возраст не указан?"
   ]
  },
  {
   "cell_type": "code",
   "execution_count": null,
   "metadata": {
    "colab": {
     "base_uri": "https://localhost:8080/",
     "height": 34
    },
    "colab_type": "code",
    "executionInfo": {
     "elapsed": 1192,
     "status": "ok",
     "timestamp": 1571141837300,
     "user": {
      "displayName": "Иван Романов",
      "photoUrl": "",
      "userId": "05119643280596747163"
     },
     "user_tz": -180
    },
    "id": "OaT_gg8A9331",
    "outputId": "564fb931-a160-4cf4-c0ff-c66de98a93da"
   },
   "outputs": [],
   "source": []
  },
  {
   "cell_type": "markdown",
   "metadata": {
    "colab_type": "text",
    "id": "2cfkt_0l9333"
   },
   "source": [
    "Всего героев около 2000. И для 3/4 из них признак возраста имеет одно и то же значение. Взглянем, коррелирует ли он с целевой переменной."
   ]
  },
  {
   "cell_type": "code",
   "execution_count": null,
   "metadata": {
    "colab": {
     "base_uri": "https://localhost:8080/",
     "height": 50
    },
    "colab_type": "code",
    "executionInfo": {
     "elapsed": 1097,
     "status": "ok",
     "timestamp": 1571141862688,
     "user": {
      "displayName": "Иван Романов",
      "photoUrl": "",
      "userId": "05119643280596747163"
     },
     "user_tz": -180
    },
    "id": "pgmzrX0x9335",
    "outputId": "c4565df5-32a3-4613-d2fd-4a433ebf0083"
   },
   "outputs": [],
   "source": []
  },
  {
   "cell_type": "code",
   "execution_count": null,
   "metadata": {
    "colab": {
     "base_uri": "https://localhost:8080/",
     "height": 50
    },
    "colab_type": "code",
    "executionInfo": {
     "elapsed": 1169,
     "status": "ok",
     "timestamp": 1571141868851,
     "user": {
      "displayName": "Иван Романов",
      "photoUrl": "",
      "userId": "05119643280596747163"
     },
     "user_tz": -180
    },
    "id": "FGWYC0ec934B",
    "outputId": "da60e50c-98a5-4106-8c3a-d7f34c9b641b"
   },
   "outputs": [],
   "source": []
  },
  {
   "cell_type": "markdown",
   "metadata": {
    "colab_type": "text",
    "id": "2pETZP4A934F"
   },
   "source": [
    "Ни отсутствие возраста, ни конкретные значения не дают прямую зависимость с фактом неумерщвления персонажа. Уберем признак возраста."
   ]
  },
  {
   "cell_type": "code",
   "execution_count": null,
   "metadata": {
    "colab": {},
    "colab_type": "code",
    "id": "p7-YOq8R934G"
   },
   "outputs": [],
   "source": []
  },
  {
   "cell_type": "markdown",
   "metadata": {
    "colab_type": "text",
    "id": "zDKwx91V934K"
   },
   "source": [
    "## Настало время machine learning"
   ]
  },
  {
   "cell_type": "markdown",
   "metadata": {
    "colab_type": "text",
    "id": "RXz8s7ni934K"
   },
   "source": [
    "Выделим в нашей выборке целевую переменную, а также разделим ее на тренировочную и тестовую."
   ]
  },
  {
   "cell_type": "code",
   "execution_count": 12,
   "metadata": {
    "colab": {
     "base_uri": "https://localhost:8080/",
     "height": 346
    },
    "colab_type": "code",
    "executionInfo": {
     "elapsed": 1016,
     "status": "error",
     "timestamp": 1571141892391,
     "user": {
      "displayName": "Иван Романов",
      "photoUrl": "",
      "userId": "05119643280596747163"
     },
     "user_tz": -180
    },
    "id": "IbIkz8gB934K",
    "outputId": "299f9f53-55a1-407b-fd98-66986b415068"
   },
   "outputs": [],
   "source": [
    "X = data[data.columns[:-1]]\n",
    "y = data['SHOOTING']\n",
    "\n",
    "from sklearn.model_selection import train_test_split\n",
    "X_train, X_test, y_train, y_test = train_test_split(X, y)"
   ]
  },
  {
   "cell_type": "markdown",
   "metadata": {
    "colab_type": "text",
    "id": "COI5J1kn934N"
   },
   "source": [
    "Пора заняться делом. Будем проводить классификацию с помощью метода ближайших соседей."
   ]
  },
  {
   "cell_type": "code",
   "execution_count": 16,
   "metadata": {
    "colab": {},
    "colab_type": "code",
    "id": "yuxbUDgM934N"
   },
   "outputs": [
    {
     "data": {
      "text/plain": [
       "0.9960976654113022"
      ]
     },
     "execution_count": 16,
     "metadata": {},
     "output_type": "execute_result"
    }
   ],
   "source": [
    "# импортируем класс классификатора по ближайшим соседям\n",
    "from sklearn.neighbors import KNeighborsClassifier\n",
    "\n",
    "# создадим наш классификатор. Гиперпараметр у этого алгоритма один - количество соседей.\n",
    "clf = KNeighborsClassifier(n_neighbors=8)\n",
    "# обучим классификатор на тренировочной выборке\n",
    "clf.fit(X_train, y_train)\n",
    "# подсчитаем долю верных ответов алгоритма на тестовой выборке.\n",
    "# Есть и другие метрики качества - о них будет рассказано на следующей лабе\n",
    "clf.score(X_test, y_test)"
   ]
  },
  {
   "cell_type": "markdown",
   "metadata": {
    "colab_type": "text",
    "id": "SHCbtBvp934P"
   },
   "source": [
    "Посмотрим, как влияет гиперпараметр на качество классификации."
   ]
  },
  {
   "cell_type": "code",
   "execution_count": 15,
   "metadata": {
    "colab": {},
    "colab_type": "code",
    "id": "TkEdENqr934Q"
   },
   "outputs": [
    {
     "data": {
      "image/png": "[encoded data removed]",
      "text/plain": [
       "<Figure size 864x504 with 1 Axes>"
      ]
     },
     "metadata": {},
     "output_type": "display_data"
    }
   ],
   "source": [
    "# Создадим пустой словарь. Будем добавлять в него значения наших \"скоров\". Ключами будет значение гиперпараметра,\n",
    "# значениями - качество работы. Рассмотрим отдельно качество на тренировочной выборке и на тестовой.\n",
    "train_scores = {}\n",
    "test_scores = {}\n",
    "\n",
    "# для n в диапазоне от 1 до 40 включительно\n",
    "for n in range(5, 20):\n",
    "    clf = KNeighborsClassifier(n_neighbors=n)\n",
    "    clf.fit(X_train, y_train)\n",
    "    # значение качества на текущей итерации:\n",
    "    current_train_score = clf.score(X_train, y_train)\n",
    "    current_test_score = clf.score(X_test, y_test)\n",
    "    # запишем его в наши словари\n",
    "    train_scores[n] = current_train_score\n",
    "    test_scores[n] = current_test_score\n",
    "\n",
    "# нарисуем графики\n",
    "plt.plot(list(train_scores.keys()), list(train_scores.values()), label='Train')\n",
    "plt.plot(list(test_scores.keys()), list(test_scores.values()), label='Test')\n",
    "plt.xlabel('n neighbors')\n",
    "plt.ylabel('right answers')\n",
    "plt.legend()\n",
    "plt.show()"
   ]
  },
  {
   "cell_type": "markdown",
   "metadata": {
    "colab_type": "text",
    "id": "G6rVT5JR934T"
   },
   "source": [
    "Какое количество соседей лучше всего брать для этой задачи?"
   ]
  },
  {
   "cell_type": "markdown",
   "metadata": {
    "colab_type": "text",
    "id": "RORPkqqQ934V"
   },
   "source": [
    "Сейчас мы разобрали задачу классификации. Метод ближайших соседей также применим для регрессии. В этом случае вместе KNeighborsClassifier нужно использовать KNeighborsRegressor."
   ]
  }
 ],
 "metadata": {
  "colab": {
   "collapsed_sections": [],
   "name": "L1_KNN.ipynb",
   "provenance": []
  },
  "kernelspec": {
   "display_name": "Python 3",
   "language": "python",
   "name": "python3"
  },
  "language_info": {
   "codemirror_mode": {
    "name": "ipython",
    "version": 3
   },
   "file_extension": ".py",
   "mimetype": "text/x-python",
   "name": "python",
   "nbconvert_exporter": "python",
   "pygments_lexer": "ipython3",
   "version": "3.7.4"
  }
 },
 "nbformat": 4,
 "nbformat_minor": 1
}
