{
 "cells": [
  {
   "cell_type": "markdown",
   "metadata": {
    "colab_type": "text",
    "id": "LFBEYr3leHLr"
   },
   "source": [
    "# Логистическая регрессия и проблема XOR\n",
    "\n",
    "XOR - это логическая операция, которая возвращает 1, если аргументы не равны, и 0 в обратном случае. Если мы изобразим случайные данные разных классов по принципу XOR, то увидим, что линейно их никак не разделить. "
   ]
  },
  {
   "cell_type": "code",
   "execution_count": 9,
   "metadata": {
    "colab": {
     "base_uri": "https://localhost:8080/",
     "height": 265
    },
    "colab_type": "code",
    "executionInfo": {
     "elapsed": 2696,
     "status": "ok",
     "timestamp": 1572955830197,
     "user": {
      "displayName": "Иван Романов",
      "photoUrl": "",
      "userId": "05119643280596747163"
     },
     "user_tz": -180
    },
    "id": "FdFmweQoeHLy",
    "outputId": "e5bae603-97ae-4f79-e0d5-e1eb46e4cbfc"
   },
   "outputs": [],
   "source": [
    "import matplotlib.pyplot as plt\n",
    "from sklearn.linear_model import LogisticRegression\n",
    "import numpy as np\n",
    "import pandas as pd\n",
    "from sklearn.preprocessing import MinMaxScaler\n",
    "from sklearn.metrics import accuracy_score, precision_score, recall_score, precision_recall_curve, roc_auc_score, f1_score, fbeta_score, auc\n",
    "%matplotlib inline"
   ]
  },
  {
   "cell_type": "code",
   "execution_count": 2,
   "metadata": {},
   "outputs": [
    {
     "name": "stdout",
     "output_type": "stream",
     "text": [
      "<class 'pandas.core.frame.DataFrame'>\n",
      "RangeIndex: 411033 entries, 0 to 411032\n",
      "Data columns (total 17 columns):\n",
      "INCIDENT_NUMBER        411033 non-null object\n",
      "OFFENSE_CODE           411033 non-null int64\n",
      "OFFENSE_CODE_GROUP     411033 non-null object\n",
      "OFFENSE_DESCRIPTION    411033 non-null object\n",
      "DISTRICT               408902 non-null object\n",
      "REPORTING_AREA         411033 non-null object\n",
      "SHOOTING               411033 non-null int64\n",
      "OCCURRED_ON_DATE       411033 non-null object\n",
      "YEAR                   411033 non-null int64\n",
      "MONTH                  411033 non-null int64\n",
      "DAY_OF_WEEK            411033 non-null object\n",
      "HOUR                   411033 non-null int64\n",
      "UCR_PART               410924 non-null object\n",
      "STREET                 398927 non-null object\n",
      "Lat                    384797 non-null float64\n",
      "Long                   384797 non-null float64\n",
      "Location               411033 non-null object\n",
      "dtypes: float64(2), int64(5), object(10)\n",
      "memory usage: 53.3+ MB\n"
     ]
    }
   ],
   "source": [
    "data = pd.read_csv('boston_crime.csv', sep=',')\n",
    "\n",
    "def shoot_nans(value):\n",
    "    if value == 'Y':\n",
    "        return 1\n",
    "    if pd.isnull(value):\n",
    "        return 0\n",
    "\n",
    "for col in ['SHOOTING']:\n",
    "    data[col] = data[col].apply(shoot_nans)\n",
    "    \n",
    "data.info()"
   ]
  },
  {
   "cell_type": "code",
   "execution_count": 3,
   "metadata": {},
   "outputs": [],
   "source": [
    "def dropper(X):\n",
    "    if 'STREET' in X.columns:\n",
    "        X = X.drop(['INCIDENT_NUMBER', 'REPORTING_AREA', 'OFFENSE_CODE_GROUP','YEAR', 'MONTH', 'HOUR', 'UCR_PART',\n",
    "                     'OFFENSE_DESCRIPTION', 'STREET', 'OFFENSE_CODE'],\n",
    "                     axis='columns')\n",
    "    return X"
   ]
  },
  {
   "cell_type": "code",
   "execution_count": 4,
   "metadata": {},
   "outputs": [
    {
     "name": "stdout",
     "output_type": "stream",
     "text": [
      "<class 'pandas.core.frame.DataFrame'>\n",
      "RangeIndex: 411033 entries, 0 to 411032\n",
      "Data columns (total 7 columns):\n",
      "DISTRICT            411033 non-null int64\n",
      "SHOOTING            411033 non-null int64\n",
      "OCCURRED_ON_DATE    411033 non-null float64\n",
      "DAY_OF_WEEK         411033 non-null int64\n",
      "Lat                 411033 non-null float64\n",
      "Long                411033 non-null float64\n",
      "Location            411033 non-null int64\n",
      "dtypes: float64(3), int64(4)\n",
      "memory usage: 22.0 MB\n"
     ]
    }
   ],
   "source": [
    "def other_transformations(X):\n",
    "    def dig(s):\n",
    "        n = ['1','2','3','4','5','6','7','8','9','0']\n",
    "        if pd.isnull(s):\n",
    "            return 0\n",
    "        else:            \n",
    "            s_int = ''\n",
    "            for i in range(len(s)):\n",
    "                if s[i] in n:\n",
    "                    s_int += s[i]\n",
    "        return int(s_int)\n",
    "\n",
    "    def distr_nans(value):\n",
    "        sec = {\n",
    "            'A': 1,\n",
    "            'B': 2,\n",
    "            'C': 3,\n",
    "            'D': 4,\n",
    "            'E': 5,\n",
    "        }\n",
    "        if pd.isnull(value):\n",
    "            return 0\n",
    "        else: \n",
    "            if isinstance(value, str):\n",
    "                return sec[value[0]]\n",
    "\n",
    "    def loc_nans(value):\n",
    "        if pd.isnull(value):\n",
    "            return 0\n",
    "        else:\n",
    "            return value*1000000\n",
    "\n",
    "    def week (value):\n",
    "        weekdays = {\n",
    "            'Monday' : 1,\n",
    "            'Tuesday' : 2,\n",
    "            'Wednesday' : 3, \n",
    "            'Thursday' : 4, \n",
    "            'Friday' : 5, \n",
    "            'Saturday' : 6, \n",
    "            'Sunday' : 7\n",
    "        }\n",
    "        return weekdays[value]\n",
    "    \n",
    "    def datef (value):\n",
    "        return pd.Timestamp(ts_input = value).timestamp()\n",
    "    \n",
    "    if 'DISTRICT' in X.columns:\n",
    "        for col in ['DISTRICT']:\n",
    "            X['Location'] = X[col].apply(dig)\n",
    "            X[col]=X[col].apply(distr_nans)\n",
    "    if 'OCCURRED_ON_DATE' in X.columns:\n",
    "        for col in ['OCCURRED_ON_DATE']:\n",
    "            X[col]=X[col].apply(datef)\n",
    "    if 'Lat' in X.columns:        \n",
    "        for col in ['Lat', 'Long']:\n",
    "            X[col]=X[col].apply(loc_nans)\n",
    "    #if 'SHOOTING' in X.columns:\n",
    "    #    for col in ['SHOOTING']:\n",
    "    #        X[col] = X[col].apply(shoot_nans)\n",
    "    if 'DAY_OF_WEEK' in X.columns:\n",
    "        X['DAY_OF_WEEK'] = X['DAY_OF_WEEK'].apply(week)\n",
    "    return X\n",
    "\n",
    "data = other_transformations(dropper(data))\n",
    "data.info()"
   ]
  },
  {
   "cell_type": "code",
   "execution_count": 16,
   "metadata": {},
   "outputs": [],
   "source": [
    "X = data.drop('SHOOTING', axis='columns')\n",
    "y = data['SHOOTING']\n",
    "\n",
    "from sklearn.model_selection import train_test_split\n",
    "X_train, X_test, y_train, y_test = train_test_split(X, y,\n",
    "                                   test_size = 0.33, stratify=y)"
   ]
  },
  {
   "cell_type": "code",
   "execution_count": 6,
   "metadata": {},
   "outputs": [],
   "source": [
    "def norm(X_train, X_test, y_train):\n",
    "    scaler = MinMaxScaler()\n",
    "    X_train_scaled = pd.DataFrame(scaler.fit_transform(X_train, ), columns=X_train.columns)\n",
    "    X_test_scaled = pd.DataFrame(scaler.transform(X_test), columns=X_train.columns)\n",
    "    X_train_scaled.reset_index(inplace=True, drop=True)\n",
    "    y_train.reset_index(drop=True, inplace=True)\n",
    "    dead = X_train_scaled[y_train == 1]\n",
    "    for i in range (7):\n",
    "        dead = pd.concat([dead,dead], ignore_index=True)\n",
    "    X_train_strat = pd.concat([X_train_scaled, dead], ignore_index=True)\n",
    "    y_train_strat = pd.concat([y_train, pd.Series(np.ones(X_train_strat.shape[0]-X_train_scaled.shape[0]))],\n",
    "                              ignore_index=True)\n",
    "    return X_train_strat, X_test_scaled, y_train_strat"
   ]
  },
  {
   "cell_type": "code",
   "execution_count": 17,
   "metadata": {},
   "outputs": [],
   "source": [
    "X_train, X_test, y_train = norm(X_train, X_test, y_train)"
   ]
  },
  {
   "cell_type": "code",
   "execution_count": 18,
   "metadata": {},
   "outputs": [
    {
     "name": "stdout",
     "output_type": "stream",
     "text": [
      "<class 'pandas.core.frame.DataFrame'>\n",
      "RangeIndex: 420032 entries, 0 to 420031\n",
      "Data columns (total 6 columns):\n",
      "DISTRICT            420032 non-null float64\n",
      "OCCURRED_ON_DATE    420032 non-null float64\n",
      "DAY_OF_WEEK         420032 non-null float64\n",
      "Lat                 420032 non-null float64\n",
      "Long                420032 non-null float64\n",
      "Location            420032 non-null float64\n",
      "dtypes: float64(6)\n",
      "memory usage: 19.2 MB\n"
     ]
    }
   ],
   "source": [
    "X_train.info()"
   ]
  },
  {
   "cell_type": "code",
   "execution_count": 19,
   "metadata": {},
   "outputs": [
    {
     "data": {
      "text/plain": [
       "0.0    274262\n",
       "1.0    145770\n",
       "dtype: int64"
      ]
     },
     "execution_count": 19,
     "metadata": {},
     "output_type": "execute_result"
    }
   ],
   "source": [
    "y_train.value_counts()\n",
    "#y_test.value_counts()"
   ]
  },
  {
   "cell_type": "code",
   "execution_count": null,
   "metadata": {},
   "outputs": [],
   "source": [
    "classifier = LogisticRegression('l1', C=2, max_iter = 10000, solver = 'liblinear')\n",
    "classifier.fit(X_train, y_train)\n",
    "a = classifier.predict(X_test)\n",
    "from sklearn.metrics import accuracy_score, precision_score, recall_score, precision_recall_curve, roc_auc_score, f1_score, fbeta_score, auc\n",
    "\n",
    "print('Accuracy:', accuracy_score(y_test, a))\n",
    "print('Precision:', precision_score(y_test, a))            \n",
    "print('Recall:', recall_score(y_test, a))\n",
    "print('ROC AUC:', roc_auc_score(y_test, a))\n",
    "pr, rec, _ = precision_recall_curve(y_test, a)\n",
    "print('PRC AUC:', auc(rec, pr))\n",
    "print('F1:', f1_score(y_test, a))\n",
    "print('F0.5:', fbeta_score(y_test, a, 0.5))\n",
    "print('F2:', fbeta_score(y_test, a, 2))"
   ]
  },
  {
   "cell_type": "code",
   "execution_count": null,
   "metadata": {},
   "outputs": [],
   "source": [
    "classifier = LogisticRegression('l1', C=6, max_iter = 10000, solver = 'liblinear')\n",
    "classifier.fit(X_train, y_train)\n",
    "a = classifier.predict(X_test)\n",
    "from sklearn.metrics import accuracy_score, precision_score, recall_score, precision_recall_curve, roc_auc_score, f1_score, fbeta_score, auc\n",
    "\n",
    "\n",
    "print('Accuracy:', accuracy_score(y_test, a))\n",
    "print('Precision:', precision_score(y_test, a))            \n",
    "print('Recall:', recall_score(y_test, a))\n",
    "print('ROC AUC:', roc_auc_score(y_test, a))\n",
    "pr, rec, _ = precision_recall_curve(y_test, a)\n",
    "print('PRC AUC:', auc(rec, pr))\n",
    "print('F1:', f1_score(y_test, a))\n",
    "print('F0.5:', fbeta_score(y_test, a, 0.5))\n",
    "print('F2:', fbeta_score(y_test, a, 2))"
   ]
  },
  {
   "cell_type": "code",
   "execution_count": null,
   "metadata": {
    "colab": {
     "base_uri": "https://localhost:8080/",
     "height": 401
    },
    "colab_type": "code",
    "executionInfo": {
     "elapsed": 1910,
     "status": "ok",
     "timestamp": 1572955871376,
     "user": {
      "displayName": "Иван Романов",
      "photoUrl": "",
      "userId": "05119643280596747163"
     },
     "user_tz": -180
    },
    "id": "vPM9X_RSeHL_",
    "outputId": "24691d5a-01bb-4daa-a232-621f33140a7a"
   },
   "outputs": [],
   "source": [
    "classifier = LogisticRegression('l1', C=0.6, max_iter = 10000, solver = 'liblinear')\n",
    "classifier.fit(X_train, y_train)\n",
    "a = classifier.predict(X_test)\n",
    "from sklearn.metrics import accuracy_score, precision_score, recall_score, precision_recall_curve, roc_auc_score, f1_score, fbeta_score, auc\n",
    "\n",
    "\n",
    "print('Accuracy:', accuracy_score(y_test, a))\n",
    "print('Precision:', precision_score(y_test, a))            \n",
    "print('Recall:', recall_score(y_test, a))\n",
    "print('ROC AUC:', roc_auc_score(y_test, a))\n",
    "pr, rec, _ = precision_recall_curve(y_test, a)\n",
    "print('PRC AUC:', auc(rec, pr))\n",
    "print('F1:', f1_score(y_test, a))\n",
    "print('F0.5:', fbeta_score(y_test, a, 0.5))\n",
    "print('F2:', fbeta_score(y_test, a, 2))"
   ]
  },
  {
   "cell_type": "markdown",
   "metadata": {
    "colab_type": "text",
    "id": "jE4gHD32eHMI"
   },
   "source": [
    "Видим, что работает так себе. Что если на вход подать не $x_1$ и $x_2$, а некоторые их полиномы?\n",
    "Преобразуем текущие признаки в 6 других: $1, x_1, x_2, x_1^2, x_1x_2$ и $x_2^2$."
   ]
  },
  {
   "cell_type": "code",
   "execution_count": null,
   "metadata": {
    "colab": {
     "base_uri": "https://localhost:8080/",
     "height": 401
    },
    "colab_type": "code",
    "executionInfo": {
     "elapsed": 2211,
     "status": "ok",
     "timestamp": 1572955927865,
     "user": {
      "displayName": "Иван Романов",
      "photoUrl": "",
      "userId": "05119643280596747163"
     },
     "user_tz": -180
    },
    "id": "6Cv2AZEIeHMM",
    "outputId": "81d7c7ea-81be-4f4a-91e8-9b7111dca1bf"
   },
   "outputs": [],
   "source": [
    "from sklearn.preprocessing import PolynomialFeatures\n",
    "from sklearn.pipeline import Pipeline\n",
    "new_classifier = Pipeline([('poly', PolynomialFeatures(degree=7)), ('logit', LogisticRegression())])\n",
    "new_classifier.fit(X, y)\n",
    "# Обучите новый классификатор на тех же данных и посмотрим, как он себя ведет в исходном пространстве признаков."
   ]
  },
  {
   "cell_type": "code",
   "execution_count": null,
   "metadata": {
    "colab": {
     "base_uri": "https://localhost:8080/",
     "height": 36
    },
    "colab_type": "code",
    "executionInfo": {
     "elapsed": 1503,
     "status": "ok",
     "timestamp": 1572956030882,
     "user": {
      "displayName": "Иван Романов",
      "photoUrl": "",
      "userId": "05119643280596747163"
     },
     "user_tz": -180
    },
    "id": "yhcnVYrweHMV",
    "outputId": "e91e6a89-fcf6-4abb-8dac-870932606b6e"
   },
   "outputs": [],
   "source": [
    "new_classifier.score(X_test, y_test)"
   ]
  },
  {
   "cell_type": "code",
   "execution_count": 43,
   "metadata": {
    "colab": {},
    "colab_type": "code",
    "id": "7SFqBUZBeHMc"
   },
   "outputs": [
    {
     "data": {
      "image/png": "[encoded data removed]",
      "text/plain": [
       "<Figure size 432x288 with 1 Axes>"
      ]
     },
     "metadata": {
      "needs_background": "light"
     },
     "output_type": "display_data"
    }
   ],
   "source": [
    "recall1 = {}\n",
    "precision1 = {}\n",
    "recall2 = {}\n",
    "precision2 = {}\n",
    "i = 0\n",
    "for n in range(10, 60, 5):\n",
    "    clf = LogisticRegression('l1', C=n/100, max_iter = 10000, solver = 'liblinear')\n",
    "    clf.fit(X_train, y_train)\n",
    "    # значение качества на текущей итерации:\n",
    "    b = clf.predict(X_test)\n",
    "    precision1[i] = precision_score(y_test, b)\n",
    "    recall1[i] = recall_score(y_test, b)\n",
    "    i += 1\n",
    "i = 0\n",
    "for n in range(10, 60, 5):\n",
    "    clf = LogisticRegression('l2', C=n/100, max_iter = 10000, solver = 'liblinear')\n",
    "    clf.fit(X_train, y_train)\n",
    "    # значение качества на текущей итерации:\n",
    "    b = clf.predict(X_test)\n",
    "    precision2[i] = precision_score(y_test, b)\n",
    "    recall2[i] = recall_score(y_test, b)\n",
    "    i += 1\n",
    "# нарисуем графики\n",
    "plt.plot(list(recall1.keys()), list(recall1.values()), label='Recall L1')\n",
    "plt.plot(list(precision1.keys()), list(precision1.values()), label='Precision L1')\n",
    "plt.plot(list(recall2.keys()), list(recall2.values()), label='Recall L2')\n",
    "plt.plot(list(precision2.keys()), list(precision2.values()), label='Precision L2')\n",
    "plt.xlabel('C')\n",
    "plt.ylabel('Metrics')\n",
    "plt.legend()\n",
    "plt.show()"
   ]
  },
  {
   "cell_type": "code",
   "execution_count": 44,
   "metadata": {},
   "outputs": [
    {
     "data": {
      "image/png": "[encoded data removed]",
      "text/plain": [
       "<Figure size 432x288 with 1 Axes>"
      ]
     },
     "metadata": {
      "needs_background": "light"
     },
     "output_type": "display_data"
    }
   ],
   "source": [
    "recall11={}\n",
    "recall22={}\n",
    "for i in range(len(recall1)):\n",
    "    recall11[i]=recall1[i]\n",
    "for i in range(len(recall2)):\n",
    "    recall22[i]=recall2[i]\n",
    "plt.plot(list(recall11.keys()), list(recall11.values()), label='Recall L1')\n",
    "plt.plot(list(recall22.keys()), list(recall22.values()), label='Recall L2')\n",
    "plt.xlabel('C')\n",
    "plt.ylabel('Metrics')\n",
    "plt.legend()\n",
    "plt.show()"
   ]
  },
  {
   "cell_type": "code",
   "execution_count": 45,
   "metadata": {},
   "outputs": [
    {
     "name": "stdout",
     "output_type": "stream",
     "text": [
      "[0.580568720379147, 0.580568720379147, 0.580568720379147, 0.580568720379147, 0.5829383886255924, 0.580568720379147, 0.580568720379147, 0.5829383886255924, 0.5829383886255924, 0.5829383886255924]\n"
     ]
    }
   ],
   "source": [
    "print(list(recall1.values()))"
   ]
  },
  {
   "cell_type": "code",
   "execution_count": 49,
   "metadata": {},
   "outputs": [
    {
     "data": {
      "image/png": "[encoded data removed]",
      "text/plain": [
       "<Figure size 432x288 with 1 Axes>"
      ]
     },
     "metadata": {
      "needs_background": "light"
     },
     "output_type": "display_data"
    }
   ],
   "source": [
    "precision11={}\n",
    "precision22={}\n",
    "for i in range(len(precision1)):\n",
    "    precision11[i]=precision1[i]\n",
    "for i in range(len(precision2)):\n",
    "    precision22[i]=precision2[i]\n",
    "plt.plot(list(precision11.keys()), list(precision11.values()), label='Precision L1')\n",
    "plt.plot(list(precision22.keys()), list(precision22.values()), label='Precision L2')\n",
    "plt.xlabel('C')\n",
    "plt.ylabel('Metrics')\n",
    "plt.legend()\n",
    "plt.show()"
   ]
  },
  {
   "cell_type": "code",
   "execution_count": 48,
   "metadata": {},
   "outputs": [
    {
     "name": "stdout",
     "output_type": "stream",
     "text": [
      "[0.012830583922492799, 0.012836634182123023, 0.012836634182123023, 0.012860217311427221, 0.01292016806722689, 0.012885242452929421, 0.012880500499447979, 0.012949413065220825, 0.012958280657395701, 0.012962377489724945]\n"
     ]
    }
   ],
   "source": [
    "print(list(precision1.values()))"
   ]
  },
  {
   "cell_type": "markdown",
   "metadata": {},
   "source": [
    "Исходя из полученных результатов, принимается С = 0.55. Посмотрим на веса признаков при L1-регуляризации:"
   ]
  },
  {
   "cell_type": "code",
   "execution_count": 25,
   "metadata": {},
   "outputs": [
    {
     "data": {
      "text/plain": [
       "LogisticRegression(C=0.55, class_weight=None, dual=False, fit_intercept=True,\n",
       "                   intercept_scaling=1, l1_ratio=None, max_iter=10000,\n",
       "                   multi_class='warn', n_jobs=None, penalty='l1',\n",
       "                   random_state=None, solver='liblinear', tol=0.0001, verbose=0,\n",
       "                   warm_start=False)"
      ]
     },
     "execution_count": 25,
     "metadata": {},
     "output_type": "execute_result"
    }
   ],
   "source": [
    "classifier = LogisticRegression('l1', C=0.55, max_iter = 10000, solver = 'liblinear')\n",
    "classifier.fit(X_train, y_train)"
   ]
  },
  {
   "cell_type": "code",
   "execution_count": 26,
   "metadata": {},
   "outputs": [
    {
     "data": {
      "text/plain": [
       "array([[-3.20999686e-01, -3.20508168e-02,  6.88069331e-01,\n",
       "        -5.99956061e+01, -5.95124293e+01, -6.48389888e-01]])"
      ]
     },
     "execution_count": 26,
     "metadata": {},
     "output_type": "execute_result"
    }
   ],
   "source": [
    "classifier.coef_"
   ]
  },
  {
   "cell_type": "code",
   "execution_count": 27,
   "metadata": {},
   "outputs": [
    {
     "data": {
      "text/plain": [
       "LogisticRegression(C=0.55, class_weight=None, dual=False, fit_intercept=True,\n",
       "                   intercept_scaling=1, l1_ratio=None, max_iter=10000,\n",
       "                   multi_class='warn', n_jobs=None, penalty='l2',\n",
       "                   random_state=None, solver='liblinear', tol=0.0001, verbose=0,\n",
       "                   warm_start=False)"
      ]
     },
     "execution_count": 27,
     "metadata": {},
     "output_type": "execute_result"
    }
   ],
   "source": [
    "classifier = LogisticRegression('l2', C=0.55,  max_iter = 10000, solver = 'liblinear')\n",
    "classifier.fit(X_train, y_train)"
   ]
  },
  {
   "cell_type": "code",
   "execution_count": 28,
   "metadata": {},
   "outputs": [
    {
     "data": {
      "text/plain": [
       "array([[-0.26860539, -0.03573228,  0.69357983, -5.59960862, -6.28206006,\n",
       "        -0.65058368]])"
      ]
     },
     "execution_count": 28,
     "metadata": {},
     "output_type": "execute_result"
    }
   ],
   "source": [
    "classifier.coef_"
   ]
  },
  {
   "cell_type": "code",
   "execution_count": 23,
   "metadata": {},
   "outputs": [
    {
     "name": "stdout",
     "output_type": "stream",
     "text": [
      "Accuracy: 0.9921557641126209\n",
      "Precision: 0.0\n",
      "Recall: 0.0\n",
      "ROC AUC: 0.49811970240959397\n",
      "PRC AUC: 0.0020495277976423057\n",
      "F1: 0.0\n",
      "F0.5: 0.0\n",
      "F2: 0.0\n"
     ]
    }
   ],
   "source": [
    "classifier = LogisticRegression('l1', C=10,  max_iter = 10000, solver = 'liblinear')\n",
    "classifier.fit(X_train, y_train)\n",
    "a = classifier.predict(X_test)\n",
    "print('Accuracy:', accuracy_score(y_test, a))\n",
    "print('Precision:', precision_score(y_test, a))            \n",
    "print('Recall:', recall_score(y_test, a))\n",
    "print('ROC AUC:', roc_auc_score(y_test, a))\n",
    "pr, rec, _ = precision_recall_curve(y_test, a)\n",
    "print('PRC AUC:', auc(rec, pr))\n",
    "print('F1:', f1_score(y_test, a))\n",
    "print('F0.5:', fbeta_score(y_test, a, 0.5))\n",
    "print('F2:', fbeta_score(y_test, a, 2))"
   ]
  },
  {
   "cell_type": "code",
   "execution_count": 24,
   "metadata": {},
   "outputs": [
    {
     "data": {
      "text/plain": [
       "array([[-3.48301112e-01, -3.17793812e-02,  6.86772883e-01,\n",
       "        -8.25184450e+01, -8.15390248e+01, -6.46690317e-01]])"
      ]
     },
     "execution_count": 24,
     "metadata": {},
     "output_type": "execute_result"
    }
   ],
   "source": [
    "classifier.coef_"
   ]
  },
  {
   "cell_type": "code",
   "execution_count": null,
   "metadata": {},
   "outputs": [],
   "source": []
  }
 ],
 "metadata": {
  "colab": {
   "name": "L3_Polynomial_Features.ipynb",
   "provenance": []
  },
  "kernelspec": {
   "display_name": "Python 3",
   "language": "python",
   "name": "python3"
  },
  "language_info": {
   "codemirror_mode": {
    "name": "ipython",
    "version": 3
   },
   "file_extension": ".py",
   "mimetype": "text/x-python",
   "name": "python",
   "nbconvert_exporter": "python",
   "pygments_lexer": "ipython3",
   "version": "3.7.4"
  }
 },
 "nbformat": 4,
 "nbformat_minor": 1
}
