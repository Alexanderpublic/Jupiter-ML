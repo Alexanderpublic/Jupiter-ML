{
 "cells": [
  {
   "cell_type": "markdown",
   "metadata": {
    "colab_type": "text",
    "id": "NH96L61X5asP"
   },
   "source": [
    "# Текстовые эмбеддинги\n",
    "\n",
    "Будем рассматривать задачу классификации текстов на 2 категории: исполняемые Киркоровым и исполняемые Монеточкой. Для работы с текстами нам понадобятся несколько дополнительных библиотек:\n",
    "* nltk - большая библиотека, в которой содержится множество полезных функций для обработки текста, такие, как, например, удаление пунктуации, стемминг и лемматизацию\n",
    "* snowballstemmer - стеммер для русского языка\n",
    "* pymorphy2, pymystem3 - морфоанализаторы для русского языка\n",
    "* gensim - библиотека, содержащая модели текстовых эмбеддингов"
   ]
  },
  {
   "cell_type": "code",
   "execution_count": 1,
   "metadata": {
    "colab": {},
    "colab_type": "code",
    "collapsed": true,
    "id": "6bBKDSLB5asb",
    "outputId": "dc6d48eb-ae02-43c3-d0ab-7ca02d270d7b"
   },
   "outputs": [
    {
     "name": "stdout",
     "output_type": "stream",
     "text": [
      "Requirement already satisfied: nltk in /home/disco/anaconda3/lib/python3.7/site-packages (3.4.5)\n",
      "Requirement already satisfied: snowballstemmer in /home/disco/anaconda3/lib/python3.7/site-packages (2.0.0)\n",
      "Collecting pymorphy2\n",
      "\u001b[?25l  Downloading https://files.pythonhosted.org/packages/a3/33/fff9675c68b5f6c63ec8c6e6ff57827dda28a1fa5b2c2d727dffff92dd47/pymorphy2-0.8-py2.py3-none-any.whl (46kB)\n",
      "\u001b[K     |████████████████████████████████| 51kB 574kB/s eta 0:00:01\n",
      "\u001b[?25hCollecting pymystem3\n",
      "  Downloading https://files.pythonhosted.org/packages/00/8c/98b43c5822620458704e187a1666616c1e21a846ede8ffda493aabe11207/pymystem3-0.2.0-py3-none-any.whl\n",
      "Collecting gensim\n",
      "\u001b[?25l  Downloading https://files.pythonhosted.org/packages/44/93/c6011037f24e3106d13f3be55297bf84ece2bf15b278cc4776339dc52db5/gensim-3.8.1-cp37-cp37m-manylinux1_x86_64.whl (24.2MB)\n",
      "\u001b[K     |████████████████████████████████| 24.2MB 2.1MB/s eta 0:00:01     |███████████████▎                | 11.6MB 821kB/s eta 0:00:16\n",
      "\u001b[?25hRequirement already satisfied: six in /home/disco/anaconda3/lib/python3.7/site-packages (from nltk) (1.12.0)\n",
      "Collecting docopt>=0.6 (from pymorphy2)\n",
      "  Downloading https://files.pythonhosted.org/packages/a2/55/8f8cab2afd404cf578136ef2cc5dfb50baa1761b68c9da1fb1e4eed343c9/docopt-0.6.2.tar.gz\n",
      "Collecting dawg-python>=0.7 (from pymorphy2)\n",
      "  Downloading https://files.pythonhosted.org/packages/6a/84/ff1ce2071d4c650ec85745766c0047ccc3b5036f1d03559fd46bb38b5eeb/DAWG_Python-0.7.2-py2.py3-none-any.whl\n",
      "Collecting pymorphy2-dicts<3.0,>=2.4 (from pymorphy2)\n",
      "\u001b[?25l  Downloading https://files.pythonhosted.org/packages/02/51/2465fd4f72328ab50877b54777764d928da8cb15b74e2680fc1bd8cb3173/pymorphy2_dicts-2.4.393442.3710985-py2.py3-none-any.whl (7.1MB)\n",
      "\u001b[K     |████████████████████████████████| 7.1MB 1.3MB/s eta 0:00:01\n",
      "\u001b[?25hRequirement already satisfied: requests in /home/disco/anaconda3/lib/python3.7/site-packages (from pymystem3) (2.22.0)\n",
      "Requirement already satisfied: numpy>=1.11.3 in /home/disco/anaconda3/lib/python3.7/site-packages (from gensim) (1.17.2)\n",
      "Requirement already satisfied: scipy>=0.18.1 in /home/disco/anaconda3/lib/python3.7/site-packages (from gensim) (1.3.1)\n",
      "Collecting smart-open>=1.8.1 (from gensim)\n",
      "\u001b[?25l  Downloading https://files.pythonhosted.org/packages/0c/09/735f2786dfac9bbf39d244ce75c0313d27d4962e71e0774750dc809f2395/smart_open-1.9.0.tar.gz (70kB)\n",
      "\u001b[K     |████████████████████████████████| 71kB 278kB/s  eta 0:00:01\n",
      "\u001b[?25hRequirement already satisfied: chardet<3.1.0,>=3.0.2 in /home/disco/anaconda3/lib/python3.7/site-packages (from requests->pymystem3) (3.0.4)\n",
      "Requirement already satisfied: urllib3!=1.25.0,!=1.25.1,<1.26,>=1.21.1 in /home/disco/anaconda3/lib/python3.7/site-packages (from requests->pymystem3) (1.24.2)\n",
      "Requirement already satisfied: certifi>=2017.4.17 in /home/disco/anaconda3/lib/python3.7/site-packages (from requests->pymystem3) (2019.9.11)\n",
      "Requirement already satisfied: idna<2.9,>=2.5 in /home/disco/anaconda3/lib/python3.7/site-packages (from requests->pymystem3) (2.8)\n",
      "Requirement already satisfied: boto>=2.32 in /home/disco/anaconda3/lib/python3.7/site-packages (from smart-open>=1.8.1->gensim) (2.49.0)\n",
      "Collecting boto3 (from smart-open>=1.8.1->gensim)\n",
      "\u001b[?25l  Downloading https://files.pythonhosted.org/packages/1f/a5/6b25e39aea40bc03163615c07572d90aaddc9951f5af9c21204d3da46398/boto3-1.10.34-py2.py3-none-any.whl (128kB)\n",
      "\u001b[K     |████████████████████████████████| 133kB 1.2MB/s eta 0:00:01\n",
      "\u001b[?25hCollecting botocore<1.14.0,>=1.13.34 (from boto3->smart-open>=1.8.1->gensim)\n",
      "\u001b[?25l  Downloading https://files.pythonhosted.org/packages/59/cb/b4772a4abc128f6fd637af9d7fc93a1db11617859af680fc2b2e6282eb95/botocore-1.13.34-py2.py3-none-any.whl (5.8MB)\n",
      "\u001b[K     |████████████████████████████████| 5.8MB 1.4MB/s eta 0:00:01\n",
      "\u001b[?25hCollecting jmespath<1.0.0,>=0.7.1 (from boto3->smart-open>=1.8.1->gensim)\n",
      "  Downloading https://files.pythonhosted.org/packages/83/94/7179c3832a6d45b266ddb2aac329e101367fbdb11f425f13771d27f225bb/jmespath-0.9.4-py2.py3-none-any.whl\n",
      "Collecting s3transfer<0.3.0,>=0.2.0 (from boto3->smart-open>=1.8.1->gensim)\n",
      "\u001b[?25l  Downloading https://files.pythonhosted.org/packages/16/8a/1fc3dba0c4923c2a76e1ff0d52b305c44606da63f718d14d3231e21c51b0/s3transfer-0.2.1-py2.py3-none-any.whl (70kB)\n",
      "\u001b[K     |████████████████████████████████| 71kB 261kB/s  eta 0:00:01\n",
      "\u001b[?25hRequirement already satisfied: docutils<0.16,>=0.10 in /home/disco/anaconda3/lib/python3.7/site-packages (from botocore<1.14.0,>=1.13.34->boto3->smart-open>=1.8.1->gensim) (0.15.2)\n",
      "Requirement already satisfied: python-dateutil<2.8.1,>=2.1; python_version >= \"2.7\" in /home/disco/anaconda3/lib/python3.7/site-packages (from botocore<1.14.0,>=1.13.34->boto3->smart-open>=1.8.1->gensim) (2.8.0)\n",
      "Building wheels for collected packages: docopt, smart-open\n",
      "  Building wheel for docopt (setup.py) ... \u001b[?25ldone\n",
      "\u001b[?25h  Created wheel for docopt: filename=docopt-0.6.2-py2.py3-none-any.whl size=13704 sha256=3c7b6d351625c91f6cde1e76db42a49a9d13833d871ed3b4967576da0a28a4e9\n",
      "  Stored in directory: /home/disco/.cache/pip/wheels/9b/04/dd/7daf4150b6d9b12949298737de9431a324d4b797ffd63f526e\n",
      "  Building wheel for smart-open (setup.py) ... \u001b[?25ldone\n",
      "\u001b[?25h  Created wheel for smart-open: filename=smart_open-1.9.0-cp37-none-any.whl size=73088 sha256=ae3c5fd4ac561e47aca4b6c7115b5a3edea7c9594792640388317708f7440b29\n",
      "  Stored in directory: /home/disco/.cache/pip/wheels/ab/10/93/5cff86f5b721d77edaecc29959b1c60d894be1f66d91407d28\n",
      "Successfully built docopt smart-open\n",
      "Installing collected packages: docopt, dawg-python, pymorphy2-dicts, pymorphy2, pymystem3, jmespath, botocore, s3transfer, boto3, smart-open, gensim\n",
      "Successfully installed boto3-1.10.34 botocore-1.13.34 dawg-python-0.7.2 docopt-0.6.2 gensim-3.8.1 jmespath-0.9.4 pymorphy2-0.8 pymorphy2-dicts-2.4.393442.3710985 pymystem3-0.2.0 s3transfer-0.2.1 smart-open-1.9.0\n"
     ]
    }
   ],
   "source": [
    "!pip install nltk snowballstemmer pymorphy2 pymystem3 gensim"
   ]
  },
  {
   "cell_type": "code",
   "execution_count": 2,
   "metadata": {
    "colab": {
     "base_uri": "https://localhost:8080/",
     "height": 129
    },
    "colab_type": "code",
    "id": "ipo0ig2O6pZN",
    "outputId": "fd40b69a-5fa4-43fc-8979-19ae5dae5663"
   },
   "outputs": [
    {
     "name": "stderr",
     "output_type": "stream",
     "text": [
      "[nltk_data] Error loading punkt: <urlopen error [Errno 11001]\n",
      "[nltk_data]     getaddrinfo failed>\n",
      "[nltk_data] Error loading stopwords: <urlopen error [Errno 11001]\n",
      "[nltk_data]     getaddrinfo failed>\n",
      "[nltk_data] Error loading wordnet: <urlopen error [Errno 11001]\n",
      "[nltk_data]     getaddrinfo failed>\n"
     ]
    },
    {
     "data": {
      "text/plain": [
       "False"
      ]
     },
     "execution_count": 2,
     "metadata": {},
     "output_type": "execute_result"
    }
   ],
   "source": [
    "import nltk\n",
    "from nltk.corpus import stopwords\n",
    "from nltk.tokenize import sent_tokenize, word_tokenize\n",
    "from pandas import read_csv\n",
    "import pandas as pd\n",
    "import numpy as np\n",
    "import sklearn\n",
    "from sklearn import svm\n",
    "from string import punctuation\n",
    "from nltk.stem.wordnet import WordNetLemmatizer\n",
    "from sklearn.metrics import accuracy_score, precision_score, recall_score,precision_recall_curve, roc_auc_score, f1_score, fbeta_score, auc\n",
    "from sklearn.ensemble import ExtraTreesClassifier\n",
    "from sklearn.ensemble import RandomForestClassifier\n",
    "try:\n",
    "    import os\n",
    "    os.chdir('F:/Neirolabs')\n",
    "except ImportError:\n",
    "    pass\n",
    "nltk.download('punkt')\n",
    "nltk.download('stopwords')\n",
    "nltk.download('wordnet')"
   ]
  },
  {
   "cell_type": "markdown",
   "metadata": {
    "colab_type": "text",
    "id": "EcSae2vO5as-"
   },
   "source": [
    "## Предобработка текстов\n",
    "\n",
    "Поскольку в русском языке много словоформ, прежде всего нужно преобразовать все тексты к единому виду."
   ]
  },
  {
   "cell_type": "markdown",
   "metadata": {
    "colab_type": "text",
    "id": "6oVXqti85atI"
   },
   "source": [
    "Считаем один из файлов и посмотрим, что мы можем с ним сделать"
   ]
  },
  {
   "cell_type": "code",
   "execution_count": 2,
   "metadata": {
    "colab": {
     "base_uri": "https://localhost:8080/",
     "height": 55
    },
    "colab_type": "code",
    "id": "xlzannJT5atR",
    "outputId": "dd8135ad-e337-41c8-ab3b-684cb6deaf02"
   },
   "outputs": [
    {
     "data": {
      "text/html": [
       "<div>\n",
       "<style scoped>\n",
       "    .dataframe tbody tr th:only-of-type {\n",
       "        vertical-align: middle;\n",
       "    }\n",
       "\n",
       "    .dataframe tbody tr th {\n",
       "        vertical-align: top;\n",
       "    }\n",
       "\n",
       "    .dataframe thead th {\n",
       "        text-align: right;\n",
       "    }\n",
       "</style>\n",
       "<table border=\"1\" class=\"dataframe\">\n",
       "  <thead>\n",
       "    <tr style=\"text-align: right;\">\n",
       "      <th></th>\n",
       "      <th>article</th>\n",
       "      <th>category</th>\n",
       "    </tr>\n",
       "  </thead>\n",
       "  <tbody>\n",
       "    <tr>\n",
       "      <td>0</td>\n",
       "      <td>Jony Ive speaks onstage during the 2017 New Yo...</td>\n",
       "      <td>gadgets</td>\n",
       "    </tr>\n",
       "    <tr>\n",
       "      <td>1</td>\n",
       "      <td>Healthcare worker sets up an EEG on an ICU pat...</td>\n",
       "      <td>science</td>\n",
       "    </tr>\n",
       "    <tr>\n",
       "      <td>2</td>\n",
       "      <td>June was a busy month for Mac malware with the...</td>\n",
       "      <td>IT</td>\n",
       "    </tr>\n",
       "    <tr>\n",
       "      <td>3</td>\n",
       "      <td>A Renault Captur in more idealistic conditions...</td>\n",
       "      <td>cars</td>\n",
       "    </tr>\n",
       "    <tr>\n",
       "      <td>4</td>\n",
       "      <td>This story isn't really about this kind of cha...</td>\n",
       "      <td>science</td>\n",
       "    </tr>\n",
       "    <tr>\n",
       "      <td>...</td>\n",
       "      <td>...</td>\n",
       "      <td>...</td>\n",
       "    </tr>\n",
       "    <tr>\n",
       "      <td>5947</td>\n",
       "      <td>My Late, Great Chevy Impala The first two mach...</td>\n",
       "      <td>cars</td>\n",
       "    </tr>\n",
       "    <tr>\n",
       "      <td>5948</td>\n",
       "      <td>Even when the instrument cluster is in navigat...</td>\n",
       "      <td>cars</td>\n",
       "    </tr>\n",
       "    <tr>\n",
       "      <td>5949</td>\n",
       "      <td>Chevrolet  Chevrolet provided flights to North...</td>\n",
       "      <td>cars</td>\n",
       "    </tr>\n",
       "    <tr>\n",
       "      <td>5950</td>\n",
       "      <td>Boring Company  Elon Musk's Boring Company is ...</td>\n",
       "      <td>cars</td>\n",
       "    </tr>\n",
       "    <tr>\n",
       "      <td>5951</td>\n",
       "      <td>A potential design for an electric skate. The ...</td>\n",
       "      <td>cars</td>\n",
       "    </tr>\n",
       "  </tbody>\n",
       "</table>\n",
       "<p>5952 rows × 2 columns</p>\n",
       "</div>"
      ],
      "text/plain": [
       "                                                article category\n",
       "0     Jony Ive speaks onstage during the 2017 New Yo...  gadgets\n",
       "1     Healthcare worker sets up an EEG on an ICU pat...  science\n",
       "2     June was a busy month for Mac malware with the...       IT\n",
       "3     A Renault Captur in more idealistic conditions...     cars\n",
       "4     This story isn't really about this kind of cha...  science\n",
       "...                                                 ...      ...\n",
       "5947  My Late, Great Chevy Impala The first two mach...     cars\n",
       "5948  Even when the instrument cluster is in navigat...     cars\n",
       "5949  Chevrolet  Chevrolet provided flights to North...     cars\n",
       "5950  Boring Company  Elon Musk's Boring Company is ...     cars\n",
       "5951  A potential design for an electric skate. The ...     cars\n",
       "\n",
       "[5952 rows x 2 columns]"
      ]
     },
     "execution_count": 2,
     "metadata": {},
     "output_type": "execute_result"
    }
   ],
   "source": [
    "out = read_csv(\"corp3.csv\", sep=',', header=0)\n",
    "out"
   ]
  },
  {
   "cell_type": "code",
   "execution_count": 3,
   "metadata": {},
   "outputs": [],
   "source": [
    "lem = WordNetLemmatizer()\n",
    "stop_words=set(stopwords.words(\"english\"))\n",
    "\n",
    "def stop(value):\n",
    "    filtered_sent=[]\n",
    "    tokenized_sent=word_tokenize(value)\n",
    "    for w in tokenized_sent:\n",
    "        if w not in stop_words and w not in punctuation:\n",
    "            filtered_sent.append(lem.lemmatize(w,\"v\"))\n",
    "    return ' '.join(filtered_sent)\n",
    "\n",
    "out['article']=out['article'].apply(stop)"
   ]
  },
  {
   "cell_type": "code",
   "execution_count": 4,
   "metadata": {},
   "outputs": [
    {
     "data": {
      "text/html": [
       "<div>\n",
       "<style scoped>\n",
       "    .dataframe tbody tr th:only-of-type {\n",
       "        vertical-align: middle;\n",
       "    }\n",
       "\n",
       "    .dataframe tbody tr th {\n",
       "        vertical-align: top;\n",
       "    }\n",
       "\n",
       "    .dataframe thead th {\n",
       "        text-align: right;\n",
       "    }\n",
       "</style>\n",
       "<table border=\"1\" class=\"dataframe\">\n",
       "  <thead>\n",
       "    <tr style=\"text-align: right;\">\n",
       "      <th></th>\n",
       "      <th>article</th>\n",
       "      <th>category</th>\n",
       "    </tr>\n",
       "  </thead>\n",
       "  <tbody>\n",
       "    <tr>\n",
       "      <td>0</td>\n",
       "      <td>Jony Ive speak onstage 2017 New Yorker TechFes...</td>\n",
       "      <td>gadgets</td>\n",
       "    </tr>\n",
       "    <tr>\n",
       "      <td>1</td>\n",
       "      <td>Healthcare worker set EEG ICU patient Getty BS...</td>\n",
       "      <td>science</td>\n",
       "    </tr>\n",
       "    <tr>\n",
       "      <td>2</td>\n",
       "      <td>June busy month Mac malware active circulation...</td>\n",
       "      <td>IT</td>\n",
       "    </tr>\n",
       "    <tr>\n",
       "      <td>3</td>\n",
       "      <td>A Renault Captur idealistic condition Renault ...</td>\n",
       "      <td>cars</td>\n",
       "    </tr>\n",
       "    <tr>\n",
       "      <td>4</td>\n",
       "      <td>This story n't really kind chameleon Sorry Ren...</td>\n",
       "      <td>science</td>\n",
       "    </tr>\n",
       "    <tr>\n",
       "      <td>...</td>\n",
       "      <td>...</td>\n",
       "      <td>...</td>\n",
       "    </tr>\n",
       "    <tr>\n",
       "      <td>5947</td>\n",
       "      <td>My Late Great Chevy Impala The first two machi...</td>\n",
       "      <td>cars</td>\n",
       "    </tr>\n",
       "    <tr>\n",
       "      <td>5948</td>\n",
       "      <td>Even instrument cluster navigation mode traffi...</td>\n",
       "      <td>cars</td>\n",
       "    </tr>\n",
       "    <tr>\n",
       "      <td>5949</td>\n",
       "      <td>Chevrolet Chevrolet provide flight North Carol...</td>\n",
       "      <td>cars</td>\n",
       "    </tr>\n",
       "    <tr>\n",
       "      <td>5950</td>\n",
       "      <td>Boring Company Elon Musk 's Boring Company nea...</td>\n",
       "      <td>cars</td>\n",
       "    </tr>\n",
       "    <tr>\n",
       "      <td>5951</td>\n",
       "      <td>A potential design electric skate The Boring C...</td>\n",
       "      <td>cars</td>\n",
       "    </tr>\n",
       "  </tbody>\n",
       "</table>\n",
       "<p>5952 rows × 2 columns</p>\n",
       "</div>"
      ],
      "text/plain": [
       "                                                article category\n",
       "0     Jony Ive speak onstage 2017 New Yorker TechFes...  gadgets\n",
       "1     Healthcare worker set EEG ICU patient Getty BS...  science\n",
       "2     June busy month Mac malware active circulation...       IT\n",
       "3     A Renault Captur idealistic condition Renault ...     cars\n",
       "4     This story n't really kind chameleon Sorry Ren...  science\n",
       "...                                                 ...      ...\n",
       "5947  My Late Great Chevy Impala The first two machi...     cars\n",
       "5948  Even instrument cluster navigation mode traffi...     cars\n",
       "5949  Chevrolet Chevrolet provide flight North Carol...     cars\n",
       "5950  Boring Company Elon Musk 's Boring Company nea...     cars\n",
       "5951  A potential design electric skate The Boring C...     cars\n",
       "\n",
       "[5952 rows x 2 columns]"
      ]
     },
     "execution_count": 4,
     "metadata": {},
     "output_type": "execute_result"
    }
   ],
   "source": [
    "out"
   ]
  },
  {
   "cell_type": "code",
   "execution_count": 5,
   "metadata": {},
   "outputs": [],
   "source": [
    "from sklearn import preprocessing\n",
    "data = pd.DataFrame(columns=['article', 'category'])\n",
    "data['article']=out['article']\n",
    "le = preprocessing.LabelEncoder()\n",
    "le.fit(out['category'])\n",
    "data['category'] = le.transform(out['category'])"
   ]
  },
  {
   "cell_type": "markdown",
   "metadata": {
    "colab_type": "text",
    "id": "EFJmqFXH5av3"
   },
   "source": [
    "## Формирование выборки сырых данных"
   ]
  },
  {
   "cell_type": "markdown",
   "metadata": {
    "colab_type": "text",
    "id": "rvtJAxwG5av6"
   },
   "source": [
    "Обернем наши предыдущие действия в функцию:"
   ]
  },
  {
   "cell_type": "code",
   "execution_count": 14,
   "metadata": {},
   "outputs": [],
   "source": [
    "out.to_csv(\"Lemmatized_corps.csv\")"
   ]
  },
  {
   "cell_type": "code",
   "execution_count": 2,
   "metadata": {},
   "outputs": [],
   "source": [
    "pf = read_csv(\"Lemmatized_corps.csv\", sep=',', header=0)"
   ]
  },
  {
   "cell_type": "code",
   "execution_count": 3,
   "metadata": {},
   "outputs": [],
   "source": [
    "pf = read_csv(\"Lemmatized_corps_named.csv\", sep=',', header=0)"
   ]
  },
  {
   "cell_type": "markdown",
   "metadata": {
    "colab_type": "text",
    "id": "0_E6FTEu5awo"
   },
   "source": [
    "Разобьем выборку на трейн и тест"
   ]
  },
  {
   "cell_type": "code",
   "execution_count": 4,
   "metadata": {
    "colab": {},
    "colab_type": "code",
    "id": "l8HdLY3e5aws"
   },
   "outputs": [],
   "source": [
    "from sklearn.model_selection import train_test_split\n",
    "X_train, X_test, y_train, y_test = train_test_split(pf['article'], pf['category'], test_size=0.33, stratify=pf['category'])"
   ]
  },
  {
   "cell_type": "markdown",
   "metadata": {
    "colab_type": "text",
    "id": "ETTEsjHq5awz"
   },
   "source": [
    "## Bag-of-Words-эмбеддинг\n",
    "\n",
    "Понятное дело, работать с чистым текстом математические методы не умеют. Настало время получить эмбеддинги!"
   ]
  },
  {
   "cell_type": "code",
   "execution_count": 8,
   "metadata": {
    "colab": {},
    "colab_type": "code",
    "id": "uNwwK3wz5aw2"
   },
   "outputs": [],
   "source": [
    "from sklearn.feature_extraction.text import CountVectorizer\n",
    "bow_vect = CountVectorizer()\n",
    "bow_vect.fit(pf['article'])\n",
    "bow_train = bow_vect.transform(X_train)\n",
    "bow_test = bow_vect.transform(X_test)"
   ]
  },
  {
   "cell_type": "markdown",
   "metadata": {
    "colab_type": "text",
    "id": "HHAQtZ5E5axB"
   },
   "source": [
    "Заметьте, что обучение эмбеддинга проводится на всех данных, не только на тренировочной выборке. О том, почему так, будет вопрос на защите =)"
   ]
  },
  {
   "cell_type": "code",
   "execution_count": 5,
   "metadata": {
    "colab": {},
    "colab_type": "code",
    "id": "Gcvbr7VP5axG",
    "outputId": "77a308fd-dc0e-4f73-ed0c-819d2536b87e"
   },
   "outputs": [
    {
     "data": {
      "text/plain": [
       "array([[0, 2, 0, ..., 0, 0, 0],\n",
       "       [0, 0, 0, ..., 0, 0, 0],\n",
       "       [0, 1, 0, ..., 0, 0, 0],\n",
       "       ...,\n",
       "       [0, 2, 0, ..., 0, 0, 0],\n",
       "       [0, 0, 0, ..., 0, 0, 0],\n",
       "       [0, 1, 0, ..., 0, 0, 0]])"
      ]
     },
     "execution_count": 5,
     "metadata": {},
     "output_type": "execute_result"
    }
   ],
   "source": [
    "bow_train.toarray()"
   ]
  },
  {
   "cell_type": "code",
   "execution_count": 6,
   "metadata": {
    "colab": {},
    "colab_type": "code",
    "id": "1zy1rSiU5axS",
    "outputId": "e77cb9fa-9d30-4282-abbd-cec276a5ab7a"
   },
   "outputs": [
    {
     "data": {
      "text/plain": [
       "(3987, 65349)"
      ]
     },
     "execution_count": 6,
     "metadata": {},
     "output_type": "execute_result"
    }
   ],
   "source": [
    "bow_train.toarray().shape"
   ]
  },
  {
   "cell_type": "markdown",
   "metadata": {
    "colab_type": "text",
    "id": "xosRodLZ5axZ"
   },
   "source": [
    "## TF-IDF-эмбеддинг"
   ]
  },
  {
   "cell_type": "code",
   "execution_count": 9,
   "metadata": {
    "colab": {},
    "colab_type": "code",
    "id": "hsIcI8S65axc"
   },
   "outputs": [],
   "source": [
    "from sklearn.feature_extraction.text import TfidfVectorizer\n",
    "tfidf_vect = TfidfVectorizer()\n",
    "tfidf_vect.fit(pf['article'])\n",
    "tfidf_train = tfidf_vect.transform(X_train)\n",
    "tfidf_test = tfidf_vect.transform(X_test)"
   ]
  },
  {
   "cell_type": "code",
   "execution_count": 5,
   "metadata": {},
   "outputs": [],
   "source": [
    "from sklearn.feature_extraction.text import TfidfVectorizer\n",
    "tfidf_vect = TfidfVectorizer()\n",
    "tfidf_vect.fit(X_train)\n",
    "tfidf_train = tfidf_vect.transform(X_train)\n",
    "tfidf_test = tfidf_vect.transform(X_test)"
   ]
  },
  {
   "cell_type": "code",
   "execution_count": 6,
   "metadata": {
    "colab": {},
    "colab_type": "code",
    "id": "t7htN7BK5axl",
    "outputId": "7fc015e4-74e3-4fd4-b857-b677a3e5ea76"
   },
   "outputs": [
    {
     "data": {
      "text/plain": [
       "array([[0.        , 0.        , 0.        , ..., 0.        , 0.        ,\n",
       "        0.        ],\n",
       "       [0.        , 0.01604396, 0.        , ..., 0.        , 0.        ,\n",
       "        0.        ],\n",
       "       [0.        , 0.        , 0.        , ..., 0.        , 0.        ,\n",
       "        0.        ],\n",
       "       ...,\n",
       "       [0.        , 0.        , 0.        , ..., 0.        , 0.        ,\n",
       "        0.        ],\n",
       "       [0.        , 0.        , 0.        , ..., 0.        , 0.        ,\n",
       "        0.        ],\n",
       "       [0.        , 0.        , 0.        , ..., 0.        , 0.        ,\n",
       "        0.        ]])"
      ]
     },
     "execution_count": 6,
     "metadata": {},
     "output_type": "execute_result"
    }
   ],
   "source": [
    "tfidf_train.toarray()"
   ]
  },
  {
   "cell_type": "code",
   "execution_count": 7,
   "metadata": {
    "colab": {},
    "colab_type": "code",
    "id": "L61gNPfY5axs",
    "outputId": "b67f9863-2c6a-45da-fa97-f5bc12d532e6"
   },
   "outputs": [
    {
     "data": {
      "text/plain": [
       "(3987, 55451)"
      ]
     },
     "execution_count": 7,
     "metadata": {},
     "output_type": "execute_result"
    }
   ],
   "source": [
    "tfidf_train.toarray().shape"
   ]
  },
  {
   "cell_type": "markdown",
   "metadata": {
    "colab_type": "text",
    "id": "eO15iK9H5ax9"
   },
   "source": [
    "## Word2vec-эмбеддинг\n",
    "Поскольку w2v - это не sklearn'овский классификатор, он на выходе выдаст данные немного другого вида, и это надо будет учитывать в дальнейшей работе"
   ]
  },
  {
   "cell_type": "code",
   "execution_count": 8,
   "metadata": {
    "colab": {},
    "colab_type": "code",
    "id": "Hr7bz_OM5ayA",
    "outputId": "cf3073e2-9b8a-402b-aed7-1aed5eafdf3c"
   },
   "outputs": [],
   "source": [
    "from gensim.models import Word2Vec\n",
    "X_train_w2v = X_train.apply(str.split)\n",
    "X_test_w2v = X_test.apply(str.split)\n",
    "w2v_vect = Word2Vec(np.hstack([X_train_w2v, X_test_w2v]), size=300, min_count=10, workers=8)"
   ]
  },
  {
   "cell_type": "code",
   "execution_count": 9,
   "metadata": {},
   "outputs": [
    {
     "name": "stderr",
     "output_type": "stream",
     "text": [
      "D:\\download\\ana\\lib\\site-packages\\ipykernel_launcher.py:6: DeprecationWarning: Call to deprecated `__getitem__` (Method will be removed in 4.0.0, use self.wv.__getitem__() instead).\n",
      "  \n"
     ]
    }
   ],
   "source": [
    "def text2vec(text):\n",
    "    \"\"\"Усредняем векторы слов\"\"\"\n",
    "    vecs = []\n",
    "    for word in text:\n",
    "        try:\n",
    "            vecs.append(w2v_vect[word])\n",
    "        except KeyError:\n",
    "            pass\n",
    "    return np.sum(vecs, axis=0) / len(vecs)\n",
    "\n",
    "w2v_train = X_train_w2v.apply(text2vec)\n",
    "w2v_test = X_test_w2v.apply(text2vec)"
   ]
  },
  {
   "cell_type": "code",
   "execution_count": 10,
   "metadata": {
    "colab": {},
    "colab_type": "code",
    "id": "BabhNJpY5azQ",
    "outputId": "fee6bc5b-4707-4da2-bfbe-eebc5b69dafb"
   },
   "outputs": [
    {
     "data": {
      "text/plain": [
       "(3987, 300)"
      ]
     },
     "execution_count": 10,
     "metadata": {},
     "output_type": "execute_result"
    }
   ],
   "source": [
    "w2v_train = np.dstack(w2v_train)[0]\n",
    "w2v_train = np.dstack(w2v_train)[0]\n",
    "w2v_train.shape"
   ]
  },
  {
   "cell_type": "code",
   "execution_count": 11,
   "metadata": {
    "colab": {},
    "colab_type": "code",
    "id": "t6jpS4WY5azY"
   },
   "outputs": [
    {
     "data": {
      "text/plain": [
       "(1965, 300)"
      ]
     },
     "execution_count": 11,
     "metadata": {},
     "output_type": "execute_result"
    }
   ],
   "source": [
    "w2v_test = np.dstack(w2v_test)[0]\n",
    "w2v_test = np.dstack(w2v_test)[0]\n",
    "w2v_test.shape"
   ]
  },
  {
   "cell_type": "markdown",
   "metadata": {
    "colab_type": "text",
    "id": "ALiM4bpn5aze"
   },
   "source": [
    "## Классификация текстов\n",
    "\n",
    "Теперь у нас есть классическое признаковое описание каждого текста. Можем обучать классификаторы или придумать еще какую-то метрику.\n",
    "\n",
    "Давайте вычислим для каждого эмбеддинга по два суммарных вектора - для текстов Филиппа и для текстов Арии. Для Bag of Words:"
   ]
  },
  {
   "cell_type": "markdown",
   "metadata": {},
   "source": [
    "cars = 0\n",
    "science = 1\n",
    "gadgets = 2\n",
    "games = 3\n",
    "IT = 4"
   ]
  },
  {
   "cell_type": "code",
   "execution_count": 35,
   "metadata": {},
   "outputs": [
    {
     "data": {
      "text/plain": [
       "SVC(C=1.0, cache_size=200, class_weight=None, coef0=0.0,\n",
       "    decision_function_shape='ovr', degree=3, gamma='auto', kernel='linear',\n",
       "    max_iter=-1, probability=False, random_state=None, shrinking=True,\n",
       "    tol=0.001, verbose=False)"
      ]
     },
     "execution_count": 35,
     "metadata": {},
     "output_type": "execute_result"
    }
   ],
   "source": [
    "SVM_bow = svm.SVC(kernel='linear', gamma='auto')\n",
    "SVM_bow.fit(bow_train,y_train)"
   ]
  },
  {
   "cell_type": "code",
   "execution_count": 36,
   "metadata": {},
   "outputs": [
    {
     "name": "stdout",
     "output_type": "stream",
     "text": [
      "Precision: 0.9480916030534351\n",
      "Recall: 0.9480879189739035\n",
      "F1: 0.9480916030534351\n",
      "F0.5: 0.9480916030534351\n",
      "F2: 0.9480916030534351\n"
     ]
    }
   ],
   "source": [
    "a = SVM_bow.predict(bow_test.toarray())\n",
    "print('Precision:', precision_score(y_test.tolist(), a,average='micro'))  \n",
    "print('Recall:', recall_score(y_test.tolist(), a,average='macro'))\n",
    "print('F1:', f1_score(y_test.tolist(), a,average='micro'))\n",
    "print('F0.5:', fbeta_score(y_test.tolist(), a, 0.5,average='micro'))\n",
    "print('F2:', fbeta_score(y_test.tolist(), a, 2,average='micro'))"
   ]
  },
  {
   "cell_type": "code",
   "execution_count": 6,
   "metadata": {},
   "outputs": [
    {
     "data": {
      "text/plain": [
       "SVC(C=1.0, cache_size=200, class_weight=None, coef0=0.0,\n",
       "    decision_function_shape='ovr', degree=3, gamma='auto', kernel='linear',\n",
       "    max_iter=-1, probability=False, random_state=None, shrinking=True,\n",
       "    tol=0.001, verbose=False)"
      ]
     },
     "execution_count": 6,
     "metadata": {},
     "output_type": "execute_result"
    }
   ],
   "source": [
    "SVM_tfidf = svm.SVC(kernel='linear', gamma='auto')\n",
    "SVM_tfidf.fit(tfidf_train,y_train)"
   ]
  },
  {
   "cell_type": "code",
   "execution_count": 38,
   "metadata": {},
   "outputs": [
    {
     "name": "stdout",
     "output_type": "stream",
     "text": [
      "Precision: 0.9567430025445293\n",
      "Recall: 0.9567368933495356\n",
      "F1: 0.9567430025445293\n",
      "F0.5: 0.9567430025445293\n",
      "F2: 0.9567430025445293\n"
     ]
    }
   ],
   "source": [
    "a = SVM_tfidf.predict(tfidf_test.toarray())\n",
    "print('Precision:', precision_score(y_test.tolist(), a,average='micro'))  \n",
    "print('Recall:', recall_score(y_test.tolist(), a,average='macro'))\n",
    "print('F1:', f1_score(y_test.tolist(), a,average='micro'))\n",
    "print('F0.5:', fbeta_score(y_test.tolist(), a, 0.5,average='micro'))\n",
    "print('F2:', fbeta_score(y_test.tolist(), a, 2,average='micro'))"
   ]
  },
  {
   "cell_type": "code",
   "execution_count": 39,
   "metadata": {},
   "outputs": [
    {
     "data": {
      "text/plain": [
       "SVC(C=1.0, cache_size=200, class_weight=None, coef0=0.0,\n",
       "    decision_function_shape='ovr', degree=3, gamma='auto', kernel='linear',\n",
       "    max_iter=-1, probability=False, random_state=None, shrinking=True,\n",
       "    tol=0.001, verbose=False)"
      ]
     },
     "execution_count": 39,
     "metadata": {},
     "output_type": "execute_result"
    }
   ],
   "source": [
    "SVM_w2v = svm.SVC(kernel='linear', gamma='auto')\n",
    "SVM_w2v.fit(w2v_train,y_train)"
   ]
  },
  {
   "cell_type": "code",
   "execution_count": 40,
   "metadata": {},
   "outputs": [
    {
     "name": "stdout",
     "output_type": "stream",
     "text": [
      "Precision: 0.9384223918575063\n",
      "Recall: 0.9384185825154396\n",
      "F1: 0.9384223918575063\n",
      "F0.5: 0.9384223918575063\n",
      "F2: 0.9384223918575063\n"
     ]
    }
   ],
   "source": [
    "a = SVM_w2v.predict(w2v_test)\n",
    "print('Precision:', precision_score(y_test.tolist(), a,average='micro'))  \n",
    "print('Recall:', recall_score(y_test.tolist(), a,average='macro'))\n",
    "print('F1:', f1_score(y_test.tolist(), a,average='micro'))\n",
    "print('F0.5:', fbeta_score(y_test.tolist(), a, 0.5,average='micro'))\n",
    "print('F2:', fbeta_score(y_test.tolist(), a, 2,average='micro'))"
   ]
  },
  {
   "cell_type": "markdown",
   "metadata": {},
   "source": [
    "# Композиции алгоритмов"
   ]
  },
  {
   "cell_type": "code",
   "execution_count": 14,
   "metadata": {},
   "outputs": [
    {
     "data": {
      "text/plain": [
       "ExtraTreesClassifier(bootstrap=False, class_weight=None, criterion='gini',\n",
       "                     max_depth=50, max_features='auto', max_leaf_nodes=None,\n",
       "                     min_impurity_decrease=0.0, min_impurity_split=None,\n",
       "                     min_samples_leaf=1, min_samples_split=2,\n",
       "                     min_weight_fraction_leaf=0.0, n_estimators=100,\n",
       "                     n_jobs=None, oob_score=False, random_state=13, verbose=0,\n",
       "                     warm_start=False)"
      ]
     },
     "execution_count": 14,
     "metadata": {},
     "output_type": "execute_result"
    }
   ],
   "source": [
    "clf = ExtraTreesClassifier(n_estimators=100, random_state=13,max_depth=50)\n",
    "clf.fit(bow_train.toarray(), y_train.tolist())"
   ]
  },
  {
   "cell_type": "code",
   "execution_count": 15,
   "metadata": {},
   "outputs": [],
   "source": [
    "a1 = clf.predict(bow_test.toarray())\n",
    "a = a1"
   ]
  },
  {
   "cell_type": "code",
   "execution_count": 16,
   "metadata": {},
   "outputs": [
    {
     "name": "stdout",
     "output_type": "stream",
     "text": [
      "Precision: 0.9353689567430026\n",
      "Recall: 0.9353456474004711\n",
      "F1: 0.9353689567430026\n",
      "F0.5: 0.9353689567430027\n",
      "F2: 0.9353689567430027\n"
     ]
    }
   ],
   "source": [
    "print('Precision:', precision_score(y_test.tolist(), a,average='micro'))  \n",
    "print('Recall:', recall_score(y_test.tolist(), a,average='macro'))\n",
    "print('F1:', f1_score(y_test.tolist(), a,average='micro'))\n",
    "print('F0.5:', fbeta_score(y_test.tolist(), a, 0.5,average='micro'))\n",
    "print('F2:', fbeta_score(y_test.tolist(), a, 2,average='micro'))"
   ]
  },
  {
   "cell_type": "code",
   "execution_count": 28,
   "metadata": {},
   "outputs": [
    {
     "data": {
      "image/png": "[encoded data removed]",
      "text/plain": [
       "<Figure size 1080x1080 with 2 Axes>"
      ]
     },
     "metadata": {
      "needs_background": "light"
     },
     "output_type": "display_data"
    }
   ],
   "source": [
    "from sklearn.metrics import confusion_matrix\n",
    "import matplotlib.pyplot as plt\n",
    "import seaborn as sns\n",
    "%matplotlib inline\n",
    "\n",
    "conf_mat = confusion_matrix(y_test, a1)\n",
    "fig, ax = plt.subplots(figsize=(15,15))\n",
    "sns.heatmap(conf_mat, annot=True, fmt='d',\n",
    "            xticklabels=le.classes_, yticklabels=le.classes_)\n",
    "plt.ylabel('Actual')\n",
    "plt.xlabel('Predicted')\n",
    "plt.show()"
   ]
  },
  {
   "cell_type": "code",
   "execution_count": 19,
   "metadata": {},
   "outputs": [
    {
     "name": "stderr",
     "output_type": "stream",
     "text": [
      "/home/disco/anaconda3/lib/python3.7/site-packages/sklearn/ensemble/forest.py:245: FutureWarning: The default value of n_estimators will change from 10 in version 0.20 to 100 in 0.22.\n",
      "  \"10 in version 0.20 to 100 in 0.22.\", FutureWarning)\n"
     ]
    },
    {
     "data": {
      "text/plain": [
       "RandomForestClassifier(bootstrap=True, class_weight=None, criterion='gini',\n",
       "                       max_depth=50, max_features='auto', max_leaf_nodes=None,\n",
       "                       min_impurity_decrease=0.0, min_impurity_split=None,\n",
       "                       min_samples_leaf=1, min_samples_split=2,\n",
       "                       min_weight_fraction_leaf=0.0, n_estimators=10,\n",
       "                       n_jobs=None, oob_score=False, random_state=0, verbose=0,\n",
       "                       warm_start=False)"
      ]
     },
     "execution_count": 19,
     "metadata": {},
     "output_type": "execute_result"
    }
   ],
   "source": [
    "clf = RandomForestClassifier(max_depth=50, random_state=0)\n",
    "clf.fit(tfidf_train.toarray(), y_train.tolist())"
   ]
  },
  {
   "cell_type": "code",
   "execution_count": 20,
   "metadata": {},
   "outputs": [],
   "source": [
    "b = clf.predict(tfidf_test.toarray())\n",
    "a = b"
   ]
  },
  {
   "cell_type": "code",
   "execution_count": 21,
   "metadata": {},
   "outputs": [
    {
     "name": "stdout",
     "output_type": "stream",
     "text": [
      "Precision: 0.8585241730279898\n",
      "Recall: 0.8585592717562698\n",
      "F1: 0.8585241730279898\n",
      "F0.5: 0.8585241730279898\n",
      "F2: 0.8585241730279898\n"
     ]
    }
   ],
   "source": [
    "print('Precision:', precision_score(y_test.tolist(), a,average='micro'))  \n",
    "print('Recall:', recall_score(y_test.tolist(), a,average='macro'))\n",
    "print('F1:', f1_score(y_test.tolist(), a,average='micro'))\n",
    "print('F0.5:', fbeta_score(y_test.tolist(), a, 0.5,average='micro'))\n",
    "print('F2:', fbeta_score(y_test.tolist(), a, 2,average='micro'))"
   ]
  },
  {
   "cell_type": "code",
   "execution_count": 29,
   "metadata": {},
   "outputs": [
    {
     "data": {
      "image/png": "[encoded data removed]",
      "text/plain": [
       "<Figure size 1080x1080 with 2 Axes>"
      ]
     },
     "metadata": {
      "needs_background": "light"
     },
     "output_type": "display_data"
    }
   ],
   "source": [
    "from sklearn.metrics import confusion_matrix\n",
    "import matplotlib.pyplot as plt\n",
    "import seaborn as sns\n",
    "%matplotlib inline\n",
    "\n",
    "conf_mat = confusion_matrix(y_test, b)\n",
    "fig, ax = plt.subplots(figsize=(15,15))\n",
    "sns.heatmap(conf_mat, annot=True, fmt='d',\n",
    "            xticklabels=le.classes_, yticklabels=le.classes_)\n",
    "plt.ylabel('Actual')\n",
    "plt.xlabel('Predicted')\n",
    "plt.show()"
   ]
  },
  {
   "cell_type": "code",
   "execution_count": 24,
   "metadata": {
    "colab": {},
    "colab_type": "code",
    "id": "58jqXXuE5a1G",
    "outputId": "8faf9ba1-9797-4e8a-f199-18a542b98937"
   },
   "outputs": [
    {
     "name": "stderr",
     "output_type": "stream",
     "text": [
      "/home/disco/anaconda3/lib/python3.7/site-packages/sklearn/ensemble/forest.py:245: FutureWarning: The default value of n_estimators will change from 10 in version 0.20 to 100 in 0.22.\n",
      "  \"10 in version 0.20 to 100 in 0.22.\", FutureWarning)\n"
     ]
    },
    {
     "data": {
      "text/plain": [
       "RandomForestClassifier(bootstrap=True, class_weight=None, criterion='gini',\n",
       "                       max_depth=50, max_features='auto', max_leaf_nodes=None,\n",
       "                       min_impurity_decrease=0.0, min_impurity_split=None,\n",
       "                       min_samples_leaf=1, min_samples_split=2,\n",
       "                       min_weight_fraction_leaf=0.0, n_estimators=10,\n",
       "                       n_jobs=None, oob_score=False, random_state=8, verbose=0,\n",
       "                       warm_start=False)"
      ]
     },
     "execution_count": 24,
     "metadata": {},
     "output_type": "execute_result"
    }
   ],
   "source": [
    "clf = RandomForestClassifier(max_depth=50, random_state=8)\n",
    "clf.fit(np.vstack(w2v_train.values), y_train.tolist())"
   ]
  },
  {
   "cell_type": "code",
   "execution_count": 26,
   "metadata": {},
   "outputs": [],
   "source": [
    "c = clf.predict(np.vstack(w2v_test.values))\n",
    "a = c"
   ]
  },
  {
   "cell_type": "code",
   "execution_count": 27,
   "metadata": {},
   "outputs": [
    {
     "name": "stdout",
     "output_type": "stream",
     "text": [
      "Accuracy: 0.9333333333333333\n",
      "Precision: 0.9333333333333333\n",
      "Recall: 0.9333476536750128\n",
      "F1: 0.9333333333333333\n",
      "F0.5: 0.9333333333333333\n",
      "F2: 0.9333333333333333\n"
     ]
    }
   ],
   "source": [
    "print('Accuracy:', accuracy_score(y_test.tolist(), a))\n",
    "print('Precision:', precision_score(y_test.tolist(), a,average='micro'))  \n",
    "print('Recall:', recall_score(y_test.tolist(), a,average='macro'))\n",
    "print('F1:', f1_score(y_test.tolist(), a,average='micro'))\n",
    "print('F0.5:', fbeta_score(y_test.tolist(), a, 0.5,average='micro'))\n",
    "print('F2:', fbeta_score(y_test.tolist(), a, 2,average='micro'))"
   ]
  },
  {
   "cell_type": "code",
   "execution_count": 30,
   "metadata": {},
   "outputs": [
    {
     "data": {
      "image/png": "[encoded data removed]",
      "text/plain": [
       "<Figure size 1080x1080 with 2 Axes>"
      ]
     },
     "metadata": {
      "needs_background": "light"
     },
     "output_type": "display_data"
    }
   ],
   "source": [
    "from sklearn.metrics import confusion_matrix\n",
    "import matplotlib.pyplot as plt\n",
    "import seaborn as sns\n",
    "%matplotlib inline\n",
    "\n",
    "conf_mat = confusion_matrix(y_test, c)\n",
    "fig, ax = plt.subplots(figsize=(15,15))\n",
    "sns.heatmap(conf_mat, annot=True, fmt='d',\n",
    "            xticklabels=le.classes_, yticklabels=le.classes_)\n",
    "plt.ylabel('Actual')\n",
    "plt.xlabel('Predicted')\n",
    "plt.show()"
   ]
  },
  {
   "cell_type": "code",
   "execution_count": null,
   "metadata": {},
   "outputs": [],
   "source": []
  }
 ],
 "metadata": {
  "colab": {
   "name": "l6_NLP.ipynb",
   "provenance": []
  },
  "kernelspec": {
   "display_name": "Python 3",
   "language": "python",
   "name": "python3"
  },
  "language_info": {
   "codemirror_mode": {
    "name": "ipython",
    "version": 3
   },
   "file_extension": ".py",
   "mimetype": "text/x-python",
   "name": "python",
   "nbconvert_exporter": "python",
   "pygments_lexer": "ipython3",
   "version": "3.7.4"
  }
 },
 "nbformat": 4,
 "nbformat_minor": 1
}
